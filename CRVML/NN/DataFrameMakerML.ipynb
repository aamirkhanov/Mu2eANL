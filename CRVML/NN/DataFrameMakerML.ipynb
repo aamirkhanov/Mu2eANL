{
  "nbformat": 4,
  "nbformat_minor": 0,
  "metadata": {
    "colab": {
      "name": "DataFrameMakerML.ipynb",
      "provenance": [],
      "collapsed_sections": [
        "Fatq3h01oZ2T",
        "jyBcOdc2ozCz",
        "fREnFj_FZpbn",
        "rK3JFk0RIWli",
        "iwQrIJQkCqgv",
        "vVjZM8DI85n1",
        "8b9xdwtWDDqB",
        "IejsCpk09FI1",
        "7P5naczDDXnI",
        "V7gy7ImCbJlg",
        "oe1y_Ak4DpmI",
        "NWDrl14QbCFT",
        "QLoyxd0IrE4z",
        "6UuI7Cp21p6j",
        "X_DHoCXe7hZJ",
        "trhVWe_b3g75",
        "vVjMrJTlk-DN",
        "btI-XbWXyiaU",
        "cT-lsdkKFveO",
        "U2EzLxqb928-",
        "Y5Aikhse0pAn",
        "fdPQfVlg1EUR",
        "Yd9TMP12fedI",
        "GdsgfMOHgF9c",
        "Xm60jVfdgdtX",
        "Zof1S55llcVb",
        "Xh9XgYbvrXyT",
        "t3f0oPKwS4Ma",
        "BZO0XvpI7mLm",
        "WMpUnurdsKgo",
        "pY6DnglNDEMx",
        "r0Oq2GKu8sjU",
        "F92heRYbE7K4",
        "T2m_Gpk3keeD",
        "2xpZN7sr_mZy",
        "19BasiFe5oTO",
        "j6QVFqT3DJLo",
        "SouRUwfZDwJc",
        "Kd2MqV_O6elA",
        "R4DkcpOOGeAJ"
      ],
      "machine_shape": "hm",
      "include_colab_link": true
    },
    "kernelspec": {
      "display_name": "Python 3",
      "name": "python3"
    }
  },
  "cells": [
    {
      "cell_type": "markdown",
      "metadata": {
        "id": "view-in-github",
        "colab_type": "text"
      },
      "source": [
        "<a href=\"https://colab.research.google.com/github/oksuzian/Mu2eANL/blob/master/CRVML/NN/DataFrameMakerML.ipynb\" target=\"_parent\"><img src=\"https://colab.research.google.com/assets/colab-badge.svg\" alt=\"Open In Colab\"/></a>"
      ]
    },
    {
      "cell_type": "markdown",
      "metadata": {
        "id": "Lr6fZSlsFHlp"
      },
      "source": [
        "#Init"
      ]
    },
    {
      "cell_type": "code",
      "metadata": {
        "colab": {
          "base_uri": "https://localhost:8080/"
        },
        "id": "-Qjsf0UZCM2P",
        "outputId": "008a716a-c614-4ff5-f7f2-0b74115945b0"
      },
      "source": [
        "import sys\n",
        "\n",
        "# This allows you to run on Colaboratory and load files from your Google Drive\n",
        "try:\n",
        "    from google.colab import drive\n",
        "    drive.mount(\"/content/drive\")\n",
        "    main_path = '/content/drive/My Drive/'\n",
        "except:\n",
        "    main_path = ''\n",
        "sys.path.append(main_path)"
      ],
      "execution_count": null,
      "outputs": [
        {
          "output_type": "stream",
          "name": "stdout",
          "text": [
            "Mounted at /content/drive\n"
          ]
        }
      ]
    },
    {
      "cell_type": "code",
      "metadata": {
        "colab": {
          "base_uri": "https://localhost:8080/"
        },
        "id": "e8V3BmLUpyF7",
        "outputId": "e3302427-d306-4f0b-9ee1-b68238242e8c"
      },
      "source": [
        "!pip install --upgrade tables\n",
        "!pip install uproot3\n",
        "import uproot3\n",
        "import pandas as pd\n",
        "import numpy as np"
      ],
      "execution_count": null,
      "outputs": [
        {
          "output_type": "stream",
          "name": "stdout",
          "text": [
            "Requirement already satisfied: tables in /usr/local/lib/python3.7/dist-packages (3.6.1)\n",
            "Requirement already satisfied: numpy>=1.9.3 in /usr/local/lib/python3.7/dist-packages (from tables) (1.19.5)\n",
            "Requirement already satisfied: numexpr>=2.6.2 in /usr/local/lib/python3.7/dist-packages (from tables) (2.7.3)\n",
            "Requirement already satisfied: uproot3 in /usr/local/lib/python3.7/dist-packages (3.14.4)\n",
            "Requirement already satisfied: cachetools in /usr/local/lib/python3.7/dist-packages (from uproot3) (4.2.4)\n",
            "Requirement already satisfied: uproot3-methods in /usr/local/lib/python3.7/dist-packages (from uproot3) (0.10.1)\n",
            "Requirement already satisfied: numpy>=1.13.1 in /usr/local/lib/python3.7/dist-packages (from uproot3) (1.19.5)\n",
            "Requirement already satisfied: awkward0 in /usr/local/lib/python3.7/dist-packages (from uproot3) (0.15.5)\n"
          ]
        }
      ]
    },
    {
      "cell_type": "markdown",
      "metadata": {
        "id": "vVjZM8DI85n1"
      },
      "source": [
        "#Uproot and save training dataframe"
      ]
    },
    {
      "cell_type": "code",
      "metadata": {
        "id": "tlMY6r64ON9W"
      },
      "source": [
        "def default_flatname(branchname, fieldname, index):\n",
        "    \"\"\"This replaces the dot in the column names with underscores\"\"\"\n",
        "    out = branchname.replace(\".\", \"_\")\n",
        "    if not isinstance(branchname, str):\n",
        "        out = branchname.decode(\"utf-8\")\n",
        "    if fieldname is not None:\n",
        "        fieldname.replace(\".\", \"_\")\n",
        "        out += \"_\" + fieldname\n",
        "    if index != ():\n",
        "        out += \"[\" + \"][\".join(str(x) for x in index) + \"]\"\n",
        "    return out"
      ],
      "execution_count": null,
      "outputs": []
    },
    {
      "cell_type": "code",
      "metadata": {
        "id": "uhJoxZ4BZ3nd"
      },
      "source": [
        "fileH = uproot3.open(\"drive/MyDrive/root_files_oksuzian/nts.oksuzian.RecoMCTrig.cry3-reco-hi.28PE.pulses.root\")\n",
        "fileL = uproot3.open(\"drive/MyDrive/root_files_oksuzian/nts.oksuzian.RecoMCTrig.cry3-reco-lo.28PE.pulses.root\")\n",
        "fileB = uproot3.open(\"drive/MyDrive/root_files_oksuzian/ana.cele0s42b2.su2020v2.root\")\n",
        "trkanaH = fileH[\"TrkAnaNeg\"][\"trkana\"]\n",
        "trkanaL = fileL[\"TrkAnaNeg\"][\"trkana\"]\n",
        "trkanaB = fileB[\"TrkAnaNeg\"][\"trkana\"]"
      ],
      "execution_count": null,
      "outputs": []
    },
    {
      "cell_type": "code",
      "metadata": {
        "id": "JdMJW5YyrKCf",
        "colab": {
          "base_uri": "https://localhost:8080/"
        },
        "outputId": "455d147a-d185-4cab-9f91-a17f2f723a64"
      },
      "source": [
        "dfL_eve = trkanaL.pandas.df(['evtinfo.', 'de', 'deent', 'dequal', 'demc', 'trigbits', 'ue', 'crvsummary*'], flatname=default_flatname, flatten=True)\n",
        "dfL_crv = trkanaL.pandas.df(['crvinfo.*', 'crvinfomc.*', 'bestcrv'], flatname=default_flatname, flatten=True)\n",
        "\n",
        "dfH_eve = trkanaH.pandas.df(['evtinfo.', 'de', 'deent', 'dequal', 'demc', 'trigbits', 'ue', 'crvsummary*'], flatname=default_flatname, flatten=True)\n",
        "dfH_crv = trkanaH.pandas.df(['crvinfo.*', 'crvinfomc.*', 'bestcrv'], flatname=default_flatname, flatten=True)\n",
        "\n",
        "dfB_eve = trkanaB.pandas.df(['evtinfo.', 'de', 'deent', 'dequal', 'demc', 'trigbits', 'ue', 'crvsummary*'], flatname=default_flatname, flatten=True)\n",
        "dfB_crv = trkanaB.pandas.df(['crvinfo.*', 'crvinfomc.*', 'bestcrv'], flatname=default_flatname, flatten=True)\n",
        "\n",
        "dfL_crv = dfL_crv[dfL_crv.index.get_level_values('subentry') == dfL_crv[\"bestcrv\"]]\n",
        "dfH_crv = dfH_crv[dfH_crv.index.get_level_values('subentry') == dfH_crv[\"bestcrv\"]]\n",
        "dfB_crv = dfB_crv[dfB_crv.index.get_level_values('subentry') == dfB_crv[\"bestcrv\"]]\n",
        "\n",
        "pd.merge(dfL_eve, dfL_crv, how=\"left\", on='entry')\n",
        "dfL = dfL_eve.merge(dfL_crv, how=\"left\", on=\"entry\")\n",
        "dfH = dfH_eve.merge(dfH_crv, how=\"left\", on=\"entry\")\n",
        "dfB = dfB_eve.merge(dfB_crv, how=\"left\", on=\"entry\")\n",
        "\n",
        "dfH['is_high'] = 1\n",
        "dfL['is_high'] = 0\n",
        "dfB['is_high'] = -1\n",
        "\n",
        "dfH['is_cosmic'] = 1\n",
        "dfL['is_cosmic'] = 1\n",
        "dfB['is_cosmic'] = 0\n",
        "\n",
        "df = pd.concat([dfH, dfL, dfB], axis=0)\n",
        "df[\"crvinfo__dT\"] = df[\"crvinfo__timeWindowStart\"] - df[\"de_t0\"]\n",
        "df['deent_d0_om'] = df[\"deent_d0\"]+2.0/df[\"deent_om\"]\n",
        "df[\"is_triggered\"] = (df[\"trigbits\"].values & 0x208) > 0\n",
        "\n",
        "df = df.fillna(-999999)\n",
        "\n",
        "del dfB_eve, dfB_crv, dfL_eve, dfL_crv, dfH_eve, dfH_crv, dfH, dfL, dfB\n",
        "\n"
      ],
      "execution_count": null,
      "outputs": [
        {
          "output_type": "stream",
          "name": "stderr",
          "text": [
            "/usr/local/lib/python3.7/dist-packages/pandas/core/generic.py:2449: PerformanceWarning: \n",
            "your performance may suffer as PyTables will pickle object types that it cannot\n",
            "map directly to c-types [inferred_type->mixed-integer,key->block6_values] [items->Index(['crvinfomc__valid'], dtype='object')]\n",
            "\n",
            "  encoding=encoding,\n"
          ]
        }
      ]
    },
    {
      "cell_type": "code",
      "metadata": {
        "id": "EEOzf6py5PpR"
      },
      "source": [
        "#Smear z to reduce oversampling spikes\n",
        "MINZ = df.query('crvinfo__PEs>0')['crvinfo__z'].min()\n",
        "MAXZ = df.query('crvinfo__PEs>0')['crvinfo__z'].max()\n",
        "\n",
        "def smear(z):\n",
        "  zsmear = np.random.normal(z, 100)\n",
        "  if zsmear > MINZ and zsmear < MAXZ:\n",
        "    return zsmear\n",
        "  else:\n",
        "    return z \n",
        "\n",
        "df['crvinfo__zSmear'] = df['crvinfo__z'].apply(smear)"
      ],
      "execution_count": null,
      "outputs": []
    },
    {
      "cell_type": "code",
      "metadata": {
        "id": "dNmkGelA5UQP",
        "colab": {
          "base_uri": "https://localhost:8080/"
        },
        "outputId": "9a123589-e6e7-4456-dc2d-36c4c0374d76"
      },
      "source": [
        "df.to_hdf(main_path+\"Saved_Data/TrainingDataCRY3CE.h5\", key='df', mode='w')"
      ],
      "execution_count": null,
      "outputs": [
        {
          "output_type": "stream",
          "name": "stderr",
          "text": [
            "/usr/local/lib/python3.7/dist-packages/pandas/core/generic.py:2449: PerformanceWarning: \n",
            "your performance may suffer as PyTables will pickle object types that it cannot\n",
            "map directly to c-types [inferred_type->mixed-integer,key->block6_values] [items->Index(['crvinfomc__valid'], dtype='object')]\n",
            "\n",
            "  encoding=encoding,\n"
          ]
        }
      ]
    },
    {
      "cell_type": "code",
      "metadata": {
        "id": "Rq6mD7Vn6sDE",
        "colab": {
          "base_uri": "https://localhost:8080/",
          "height": 265
        },
        "outputId": "2021b8f2-974c-49d2-b52b-27871cf1fa33"
      },
      "source": [
        "import matplotlib.pyplot as plt\n",
        "\n",
        "plt.hist(df.query('is_high==-1 & crvinfo__z>-10000')['crvinfo__z'], bins=1000, histtype='step');\n",
        "plt.hist(df.query('is_high==0  & crvinfo__z>-10000')['crvinfo__z'], bins=1000, histtype='step');\n",
        "plt.hist(df.query('is_high==1  & crvinfo__z>-10000')['crvinfo__z'], bins=1000, histtype='step');\n",
        "plt.yscale('log')"
      ],
      "execution_count": null,
      "outputs": [
        {
          "output_type": "display_data",
          "data": {
            "image/png": "[encoded data removed]",
            "text/plain": [
              "<Figure size 432x288 with 1 Axes>"
            ]
          },
          "metadata": {
            "needs_background": "light"
          }
        }
      ]
    },
    {
      "cell_type": "code",
      "metadata": {
        "id": "44TL9yTW6tV2"
      },
      "source": [
        ""
      ],
      "execution_count": null,
      "outputs": []
    }
  ]
}