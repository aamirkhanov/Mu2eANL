{
  "nbformat": 4,
  "nbformat_minor": 0,
  "metadata": {
    "colab": {
      "name": "CRY_estimating.ipynb",
      "provenance": [],
      "collapsed_sections": [],
      "include_colab_link": true
    },
    "kernelspec": {
      "display_name": "Python 3",
      "name": "python3"
    },
    "language_info": {
      "name": "python"
    }
  },
  "cells": [
    {
      "cell_type": "markdown",
      "metadata": {
        "id": "view-in-github",
        "colab_type": "text"
      },
      "source": [
        "<a href=\"https://colab.research.google.com/github/oksuzian/Mu2eANL/blob/master/CosmicNeutrons/CosmicNeutronData.ipynb\" target=\"_parent\"><img src=\"https://colab.research.google.com/assets/colab-badge.svg\" alt=\"Open In Colab\"/></a>"
      ]
    },
    {
      "cell_type": "code",
      "metadata": {
        "colab": {
          "base_uri": "https://localhost:8080/"
        },
        "id": "4SC03LASIdRr",
        "outputId": "d66277e6-71f4-4b8e-ded4-18dc0ac213d5"
      },
      "source": [
        "import sys\n",
        "import matplotlib.pyplot as plt\n",
        "import pandas as pd\n",
        "\n",
        "\n",
        "# This allows you to run on Colaboratory and load files from your Google Drive\n",
        "try:\n",
        "    from google.colab import drive\n",
        "    drive.mount(\"/content/drive\")\n",
        "    main_path = '/content/drive/MyDrive/'\n",
        "except:\n",
        "    main_path = ''\n",
        "sys.path.append(main_path)\n",
        "sys.path.append(main_path+'root_files_dzhadan')\n",
        "#from utils import Utils\n",
        "#util = Utils()\n",
        "import math"
      ],
      "execution_count": 2,
      "outputs": [
        {
          "output_type": "stream",
          "name": "stdout",
          "text": [
            "Mounted at /content/drive\n"
          ]
        }
      ]
    },
    {
      "cell_type": "code",
      "metadata": {
        "id": "dbu6nBGPNN_M"
      },
      "source": [
        "plt.style.use('seaborn-whitegrid')\n",
        "plt.rcParams[\"grid.linestyle\"] = (5,15)\n",
        "plt.rcParams[\"grid.linewidth\"] = 0.7\n",
        "plt.rcParams[\"figure.figsize\"] = (10,5)\n",
        "plt.rcParams.update({'font.size': 22})"
      ],
      "execution_count": 3,
      "outputs": []
    },
    {
      "cell_type": "code",
      "metadata": {
        "id": "utrjiTx1J73N"
      },
      "source": [
        "df_Houston = 'drive/MyDrive/root_files_dzhadan/CRY/Houston.txt'\n",
        "df_Washington = 'drive/MyDrive/root_files_dzhadan/CRY/Washington.txt'\n",
        "df_Fremont = 'drive/MyDrive/root_files_dzhadan/CRY/Fremont.txt'\n",
        "df_Leadville = 'drive/MyDrive/root_files_dzhadan/CRY/Leadville.txt'\n",
        "df_YorkTown = 'drive/MyDrive/root_files_dzhadan/CRY/YorkTown.txt'\n",
        "df_Leadville_2100 = 'drive/MyDrive/root_files_dzhadan/CRY/2100_Leadville.txt'\n",
        "df_Fremont_11300 = 'drive/MyDrive/root_files_dzhadan/CRY/11300_Fremont.txt'\n",
        "df_NYC = 'drive/MyDrive/root_files_dzhadan/CRY/NYC.txt'\n",
        "\n",
        "df_2100 = 'drive/MyDrive/root_files_dzhadan/CRY/2100M_g.txt'"
      ],
      "execution_count": 4,
      "outputs": []
    },
    {
      "cell_type": "code",
      "source": [
        "CRYinput = {'Houston': 0.438068, \n",
        "            'Washington': 0.398198, \n",
        "            'Fremont': 0.408906, \n",
        "            'Leadville': 0.409181, \n",
        "            'YorkTown': 0.404541, \n",
        "            '2100_Leadville': 0.129099, \n",
        "            '11300_Fremont': 0.00381956, \n",
        "            'NYC': 0.414551, \n",
        "            '2100M_g': 0.126252}\n",
        "def makeCRYpandas():\n",
        "  df = pd.DataFrame()\n",
        "  for _CRYinput in CRYinput:\n",
        "    print(_CRYinput, CRYinput[_CRYinput])\n",
        "    df_ = pd.read_csv('drive/MyDrive/root_files_dzhadan/CRY/%s.txt'%_CRYinput, sep=\", \", header=None)\n",
        "    df_.columns = [\"evt\", \"pdgId\", \"energy\"]\n",
        "    df_['name'] = _CRYinput\n",
        "    df = df.append(df_.query('pdgId==2112'))\n",
        "  return df"
      ],
      "metadata": {
        "id": "oGGqUGCJ1jfS"
      },
      "execution_count": 56,
      "outputs": []
    },
    {
      "cell_type": "code",
      "source": [
        "df = makeCRYpandas()"
      ],
      "metadata": {
        "colab": {
          "base_uri": "https://localhost:8080/"
        },
        "id": "xOpmkQt72bn0",
        "outputId": "69957a8c-4331-4759-a3af-26539a55a9a3"
      },
      "execution_count": 58,
      "outputs": [
        {
          "output_type": "stream",
          "name": "stdout",
          "text": [
            "Houston 0.438068\n"
          ]
        },
        {
          "output_type": "stream",
          "name": "stderr",
          "text": [
            "/usr/local/lib/python3.7/dist-packages/ipykernel_launcher.py:14: ParserWarning: Falling back to the 'python' engine because the 'c' engine does not support regex separators (separators > 1 char and different from '\\s+' are interpreted as regex); you can avoid this warning by specifying engine='python'.\n",
            "  \n"
          ]
        },
        {
          "output_type": "stream",
          "name": "stdout",
          "text": [
            "Washington 0.398198\n",
            "Fremont 0.408906\n",
            "Leadville 0.409181\n",
            "YorkTown 0.404541\n",
            "2100_Leadville 0.129099\n",
            "11300_Fremont 0.00381956\n",
            "NYC 0.414551\n",
            "2100M_g 0.126252\n"
          ]
        }
      ]
    },
    {
      "cell_type": "code",
      "metadata": {
        "id": "USEy0dWpVqKZ"
      },
      "source": [
        "time_Houtson = 0.438068\n",
        "time_Washington = 0.398198\n",
        "time_Fremont = 0.408906\n",
        "time_Leadville = 0.409181\n",
        "time_YorkTown = 0.404541\n",
        "\n",
        "time_Leadville_2100 = 0.129099\n",
        "time_Fremont_11300 = 0.00381956\n",
        "time_NYC = 0.414551\n",
        "time_2100 = 0.126252\n",
        "\n",
        "S = pow(100*100, 2) #100x100 m2 in cm2"
      ],
      "execution_count": 5,
      "outputs": []
    },
    {
      "cell_type": "code",
      "metadata": {
        "id": "6ETvUgRcgwAR"
      },
      "source": [
        "# dfN = pd.read_csv(df_NYC, sep=\", \", header=None)\n",
        "# dfN.columns = [\"evt\", \"pdg_id\", \"energy\"]"
      ],
      "execution_count": 6,
      "outputs": []
    },
    {
      "cell_type": "code",
      "metadata": {
        "colab": {
          "base_uri": "https://localhost:8080/"
        },
        "id": "AXJiHsma3tiY",
        "outputId": "d0337830-69a6-4a15-a1b7-65a75a5d793a"
      },
      "source": [
        "df2100 = pd.read_csv(df_2100, sep=\", \", header=None)\n",
        "df2100.columns = [\"evt\", \"pdg_id\", \"energy\"]"
      ],
      "execution_count": 6,
      "outputs": [
        {
          "output_type": "stream",
          "name": "stderr",
          "text": [
            "/usr/local/lib/python3.7/dist-packages/ipykernel_launcher.py:1: ParserWarning: Falling back to the 'python' engine because the 'c' engine does not support regex separators (separators > 1 char and different from '\\s+' are interpreted as regex); you can avoid this warning by specifying engine='python'.\n",
            "  \"\"\"Entry point for launching an IPython kernel.\n"
          ]
        }
      ]
    },
    {
      "cell_type": "code",
      "metadata": {
        "colab": {
          "base_uri": "https://localhost:8080/"
        },
        "id": "bLme7WokKHeZ",
        "outputId": "37d2ee28-cb15-4172-ba05-e6e874a442fa"
      },
      "source": [
        "dfF = pd.read_csv(df_Fremont, sep=\", \", header=None)\n",
        "dfF.columns = [\"evt\", \"pdg_id\", \"energy\"]\n",
        "dfW = pd.read_csv(df_Washington, sep=\", \", header=None)\n",
        "dfW.columns = [\"evt\", \"pdg_id\", \"energy\"]\n",
        "dfH = pd.read_csv(df_Houston, sep=\", \", header=None)\n",
        "dfH.columns = [\"evt\", \"pdg_id\", \"energy\"]\n",
        "dfL = pd.read_csv(df_Leadville, sep=\", \", header=None)\n",
        "dfL.columns = [\"evt\", \"pdg_id\", \"energy\"]\n",
        "dfY = pd.read_csv(df_YorkTown, sep=\", \", header=None)\n",
        "dfY.columns = [\"evt\", \"pdg_id\", \"energy\"]\n",
        "dfN = pd.read_csv(df_NYC, sep=\", \", header=None)\n",
        "dfN.columns = [\"evt\", \"pdg_id\", \"energy\"]\n",
        "\n",
        "dfL2100 = pd.read_csv(df_Leadville_2100, sep=\", \", header=None)\n",
        "dfL2100.columns = [\"evt\", \"pdg_id\", \"energy\"]\n",
        "dfF11300 = pd.read_csv(df_Fremont_11300, sep=\", \", header=None)\n",
        "dfF11300.columns = [\"evt\", \"pdg_id\", \"energy\"]"
      ],
      "execution_count": 7,
      "outputs": [
        {
          "output_type": "stream",
          "name": "stderr",
          "text": [
            "/usr/local/lib/python3.7/dist-packages/ipykernel_launcher.py:1: ParserWarning: Falling back to the 'python' engine because the 'c' engine does not support regex separators (separators > 1 char and different from '\\s+' are interpreted as regex); you can avoid this warning by specifying engine='python'.\n",
            "  \"\"\"Entry point for launching an IPython kernel.\n",
            "/usr/local/lib/python3.7/dist-packages/ipykernel_launcher.py:3: ParserWarning: Falling back to the 'python' engine because the 'c' engine does not support regex separators (separators > 1 char and different from '\\s+' are interpreted as regex); you can avoid this warning by specifying engine='python'.\n",
            "  This is separate from the ipykernel package so we can avoid doing imports until\n",
            "/usr/local/lib/python3.7/dist-packages/ipykernel_launcher.py:5: ParserWarning: Falling back to the 'python' engine because the 'c' engine does not support regex separators (separators > 1 char and different from '\\s+' are interpreted as regex); you can avoid this warning by specifying engine='python'.\n",
            "  \"\"\"\n",
            "/usr/local/lib/python3.7/dist-packages/ipykernel_launcher.py:7: ParserWarning: Falling back to the 'python' engine because the 'c' engine does not support regex separators (separators > 1 char and different from '\\s+' are interpreted as regex); you can avoid this warning by specifying engine='python'.\n",
            "  import sys\n",
            "/usr/local/lib/python3.7/dist-packages/ipykernel_launcher.py:9: ParserWarning: Falling back to the 'python' engine because the 'c' engine does not support regex separators (separators > 1 char and different from '\\s+' are interpreted as regex); you can avoid this warning by specifying engine='python'.\n",
            "  if __name__ == '__main__':\n",
            "/usr/local/lib/python3.7/dist-packages/ipykernel_launcher.py:11: ParserWarning: Falling back to the 'python' engine because the 'c' engine does not support regex separators (separators > 1 char and different from '\\s+' are interpreted as regex); you can avoid this warning by specifying engine='python'.\n",
            "  # This is added back by InteractiveShellApp.init_path()\n",
            "/usr/local/lib/python3.7/dist-packages/ipykernel_launcher.py:14: ParserWarning: Falling back to the 'python' engine because the 'c' engine does not support regex separators (separators > 1 char and different from '\\s+' are interpreted as regex); you can avoid this warning by specifying engine='python'.\n",
            "  \n",
            "/usr/local/lib/python3.7/dist-packages/ipykernel_launcher.py:16: ParserWarning: Falling back to the 'python' engine because the 'c' engine does not support regex separators (separators > 1 char and different from '\\s+' are interpreted as regex); you can avoid this warning by specifying engine='python'.\n",
            "  app.launch_new_instance()\n"
          ]
        }
      ]
    },
    {
      "cell_type": "code",
      "metadata": {
        "colab": {
          "base_uri": "https://localhost:8080/"
        },
        "id": "Mw9kdaemqCv_",
        "outputId": "3902ecae-374c-40d5-c997-bdff9e1b239a"
      },
      "source": [
        "df_Paper1 = 'drive/MyDrive/root_files_dzhadan/CRY/NeutronFlux_TinoHeijmen.csv'\n",
        "dfP1 = pd.read_csv(df_Paper1, sep=\", \", header=None)\n",
        "dfP1.columns = [\"energy\", \"flux\"]\n",
        "#Radiation-induced soft errors indigital circuits"
      ],
      "execution_count": 8,
      "outputs": [
        {
          "output_type": "stream",
          "name": "stderr",
          "text": [
            "/usr/local/lib/python3.7/dist-packages/ipykernel_launcher.py:2: ParserWarning: Falling back to the 'python' engine because the 'c' engine does not support regex separators (separators > 1 char and different from '\\s+' are interpreted as regex); you can avoid this warning by specifying engine='python'.\n",
            "  \n"
          ]
        }
      ]
    },
    {
      "cell_type": "code",
      "metadata": {
        "colab": {
          "base_uri": "https://localhost:8080/"
        },
        "id": "hAwujNMuLP4v",
        "outputId": "cb819eaf-9629-4a10-cd2d-d95a222320c9"
      },
      "source": [
        "print(\"Houston: %e\" % (len(dfH.query('pdg_id==2112 & energy > 10'))/(time_Houtson * S)))\n",
        "print(\"Washington: %e\" % (len(dfW.query('pdg_id==2112 & energy > 10'))/(time_Washington * S)))\n",
        "print(\"Fremont: %e\" % (len(dfF.query('pdg_id==2112 & energy > 10'))/(time_Fremont * S)))\n",
        "print(\"Leadville: %e\" % (len(dfL.query('pdg_id==2112 & energy > 10'))/(time_Leadville * S)))\n",
        "print(\"YorkTown: %e\" % (len(dfY.query('pdg_id==2112 & energy > 10'))/(time_YorkTown * S)))\n",
        "\n",
        "print(\"Leadville 2100: %e\" % (len(dfL2100.query('pdg_id==2112 & energy > 10'))/(time_Leadville_2100 * S)))\n",
        "print(\"Fremont 11300: %e\" % (len(dfF11300.query('pdg_id==2112 & energy > 10'))/(time_Fremont_11300 * S)))\n",
        "print(\"NYC: %e\" % (len(dfN.query('pdg_id==2112 & energy > 10'))/(time_NYC * S)))"
      ],
      "execution_count": 9,
      "outputs": [
        {
          "output_type": "stream",
          "name": "stdout",
          "text": [
            "Houston: 1.074947e-03\n",
            "Washington: 1.585267e-03\n",
            "Fremont: 1.359701e-03\n",
            "Leadville: 1.356344e-03\n",
            "YorkTown: 1.438148e-03\n",
            "Leadville 2100: 7.750486e-03\n",
            "Fremont 11300: 1.967923e-01\n",
            "NYC: 1.358940e-03\n"
          ]
        }
      ]
    },
    {
      "cell_type": "code",
      "metadata": {
        "colab": {
          "base_uri": "https://localhost:8080/",
          "height": 352
        },
        "id": "DgLJgz2fJZ_5",
        "outputId": "adaa5dcb-bec3-48d4-aaea-a073faad6d44"
      },
      "source": [
        "x=[]\n",
        "y=[]\n",
        "for en in range(1, 1000, 1):\n",
        "  x.append(en)\n",
        "  flux = len(dfN.query('pdg_id==2112 & energy > %f'%en)) / (time_NYC * S)\n",
        "  y.append(flux)\n",
        "plt.plot(x,y,'.')\n",
        "plt.plot(dfP1.energy, dfP1.flux*dfP1.energy, '.')\n",
        "plt.xlabel('Neutron energy [MeV]')\n",
        "plt.ylabel('Flux [n/cm-2 sec-1]');\n",
        "\n"
      ],
      "execution_count": 10,
      "outputs": [
        {
          "output_type": "display_data",
          "data": {
            "image/png": "[encoded data removed]",
            "text/plain": [
              "<Figure size 720x360 with 1 Axes>"
            ]
          },
          "metadata": {}
        }
      ]
    },
    {
      "cell_type": "code",
      "metadata": {
        "colab": {
          "base_uri": "https://localhost:8080/",
          "height": 377
        },
        "id": "PKPGfOiJYFV-",
        "outputId": "399a84bf-395a-439e-ea24-ef8a310c5076"
      },
      "source": [
        "plt.figure()\n",
        "plt.plot(x,y,'-', label='CRY')\n",
        "plt.plot(dfP1.energy, dfP1.flux*dfP1.energy, '--.', label='Data')\n",
        "plt.xlabel('Neutron energy [MeV]')\n",
        "plt.ylabel('Flux [n/cm-2 sec-1]');\n",
        "plt.legend()\n",
        "plt.xlim(100,1000)\n",
        "plt.ylim(0,0.0005)"
      ],
      "execution_count": 11,
      "outputs": [
        {
          "output_type": "execute_result",
          "data": {
            "text/plain": [
              "(0.0, 0.0005)"
            ]
          },
          "metadata": {},
          "execution_count": 11
        },
        {
          "output_type": "display_data",
          "data": {
            "image/png": "[encoded data removed]",
            "text/plain": [
              "<Figure size 720x360 with 1 Axes>"
            ]
          },
          "metadata": {}
        }
      ]
    },
    {
      "cell_type": "code",
      "source": [
        "dfP1['flux_int'] = dfP1.flux*dfP1.energy\n",
        "dfP1['dE'] = dfP1.energy.diff(periods=-1)\n",
        "dfP1['flux_dif'] = dfP1.flux_int.diff(periods=-1)/-dfP1.dE"
      ],
      "metadata": {
        "id": "JjPWYkjXLJSZ"
      },
      "execution_count": 12,
      "outputs": []
    },
    {
      "cell_type": "code",
      "source": [
        "dfP1"
      ],
      "metadata": {
        "colab": {
          "base_uri": "https://localhost:8080/",
          "height": 833
        },
        "id": "a7OCldrTSqCH",
        "outputId": "89f3c73e-5341-42ae-8e05-fdab0d65842a"
      },
      "execution_count": 13,
      "outputs": [
        {
          "output_type": "execute_result",
          "data": {
            "text/html": [
              "<div>\n",
              "<style scoped>\n",
              "    .dataframe tbody tr th:only-of-type {\n",
              "        vertical-align: middle;\n",
              "    }\n",
              "\n",
              "    .dataframe tbody tr th {\n",
              "        vertical-align: top;\n",
              "    }\n",
              "\n",
              "    .dataframe thead th {\n",
              "        text-align: right;\n",
              "    }\n",
              "</style>\n",
              "<table border=\"1\" class=\"dataframe\">\n",
              "  <thead>\n",
              "    <tr style=\"text-align: right;\">\n",
              "      <th></th>\n",
              "      <th>energy</th>\n",
              "      <th>flux</th>\n",
              "      <th>flux_int</th>\n",
              "      <th>dE</th>\n",
              "      <th>flux_dif</th>\n",
              "    </tr>\n",
              "  </thead>\n",
              "  <tbody>\n",
              "    <tr>\n",
              "      <th>0</th>\n",
              "      <td>1.011418</td>\n",
              "      <td>2.284818e-03</td>\n",
              "      <td>0.002311</td>\n",
              "      <td>-1.012438</td>\n",
              "      <td>4.420583e-04</td>\n",
              "    </tr>\n",
              "    <tr>\n",
              "      <th>1</th>\n",
              "      <td>2.023856</td>\n",
              "      <td>9.206930e-04</td>\n",
              "      <td>0.001863</td>\n",
              "      <td>-1.035098</td>\n",
              "      <td>2.230494e-04</td>\n",
              "    </tr>\n",
              "    <tr>\n",
              "      <th>2</th>\n",
              "      <td>3.058954</td>\n",
              "      <td>5.336699e-04</td>\n",
              "      <td>0.001632</td>\n",
              "      <td>-0.990798</td>\n",
              "      <td>1.312070e-04</td>\n",
              "    </tr>\n",
              "    <tr>\n",
              "      <th>3</th>\n",
              "      <td>4.049752</td>\n",
              "      <td>3.710035e-04</td>\n",
              "      <td>0.001502</td>\n",
              "      <td>-0.987641</td>\n",
              "      <td>9.246141e-05</td>\n",
              "    </tr>\n",
              "    <tr>\n",
              "      <th>4</th>\n",
              "      <td>5.037393</td>\n",
              "      <td>2.801357e-04</td>\n",
              "      <td>0.001411</td>\n",
              "      <td>-0.988901</td>\n",
              "      <td>9.466604e-05</td>\n",
              "    </tr>\n",
              "    <tr>\n",
              "      <th>5</th>\n",
              "      <td>6.026294</td>\n",
              "      <td>2.186316e-04</td>\n",
              "      <td>0.001318</td>\n",
              "      <td>-1.016575</td>\n",
              "      <td>5.383560e-05</td>\n",
              "    </tr>\n",
              "    <tr>\n",
              "      <th>6</th>\n",
              "      <td>7.042868</td>\n",
              "      <td>1.793034e-04</td>\n",
              "      <td>0.001263</td>\n",
              "      <td>-0.997864</td>\n",
              "      <td>4.077755e-05</td>\n",
              "    </tr>\n",
              "    <tr>\n",
              "      <th>7</th>\n",
              "      <td>8.040732</td>\n",
              "      <td>1.519911e-04</td>\n",
              "      <td>0.001222</td>\n",
              "      <td>-0.997052</td>\n",
              "      <td>5.787001e-05</td>\n",
              "    </tr>\n",
              "    <tr>\n",
              "      <th>8</th>\n",
              "      <td>9.037784</td>\n",
              "      <td>1.288391e-04</td>\n",
              "      <td>0.001164</td>\n",
              "      <td>-1.042081</td>\n",
              "      <td>2.549424e-05</td>\n",
              "    </tr>\n",
              "    <tr>\n",
              "      <th>9</th>\n",
              "      <td>10.079865</td>\n",
              "      <td>1.128838e-04</td>\n",
              "      <td>0.001138</td>\n",
              "      <td>-9.937319</td>\n",
              "      <td>4.608579e-06</td>\n",
              "    </tr>\n",
              "    <tr>\n",
              "      <th>10</th>\n",
              "      <td>20.017183</td>\n",
              "      <td>5.455595e-05</td>\n",
              "      <td>0.001092</td>\n",
              "      <td>-10.241716</td>\n",
              "      <td>1.741754e-06</td>\n",
              "    </tr>\n",
              "    <tr>\n",
              "      <th>11</th>\n",
              "      <td>30.258900</td>\n",
              "      <td>3.550089e-05</td>\n",
              "      <td>0.001074</td>\n",
              "      <td>-9.804626</td>\n",
              "      <td>2.863848e-08</td>\n",
              "    </tr>\n",
              "    <tr>\n",
              "      <th>12</th>\n",
              "      <td>40.063526</td>\n",
              "      <td>2.680586e-05</td>\n",
              "      <td>0.001074</td>\n",
              "      <td>-10.162939</td>\n",
              "      <td>2.279777e-06</td>\n",
              "    </tr>\n",
              "    <tr>\n",
              "      <th>13</th>\n",
              "      <td>50.226465</td>\n",
              "      <td>2.092060e-05</td>\n",
              "      <td>0.001051</td>\n",
              "      <td>-19.998670</td>\n",
              "      <td>3.941492e-06</td>\n",
              "    </tr>\n",
              "    <tr>\n",
              "      <th>14</th>\n",
              "      <td>70.225135</td>\n",
              "      <td>1.384039e-05</td>\n",
              "      <td>0.000972</td>\n",
              "      <td>-30.284067</td>\n",
              "      <td>2.693350e-06</td>\n",
              "    </tr>\n",
              "    <tr>\n",
              "      <th>15</th>\n",
              "      <td>100.509201</td>\n",
              "      <td>8.858668e-06</td>\n",
              "      <td>0.000890</td>\n",
              "      <td>-99.024482</td>\n",
              "      <td>2.477561e-06</td>\n",
              "    </tr>\n",
              "    <tr>\n",
              "      <th>16</th>\n",
              "      <td>199.533683</td>\n",
              "      <td>3.232730e-06</td>\n",
              "      <td>0.000645</td>\n",
              "      <td>-102.006185</td>\n",
              "      <td>1.470311e-06</td>\n",
              "    </tr>\n",
              "    <tr>\n",
              "      <th>17</th>\n",
              "      <td>301.539868</td>\n",
              "      <td>1.641765e-06</td>\n",
              "      <td>0.000495</td>\n",
              "      <td>-97.609411</td>\n",
              "      <td>9.825726e-07</td>\n",
              "    </tr>\n",
              "    <tr>\n",
              "      <th>18</th>\n",
              "      <td>399.149280</td>\n",
              "      <td>1.000000e-06</td>\n",
              "      <td>0.000399</td>\n",
              "      <td>-97.269112</td>\n",
              "      <td>7.272093e-07</td>\n",
              "    </tr>\n",
              "    <tr>\n",
              "      <th>19</th>\n",
              "      <td>496.418392</td>\n",
              "      <td>6.615675e-07</td>\n",
              "      <td>0.000328</td>\n",
              "      <td>-106.695032</td>\n",
              "      <td>5.628211e-07</td>\n",
              "    </tr>\n",
              "    <tr>\n",
              "      <th>20</th>\n",
              "      <td>603.113423</td>\n",
              "      <td>4.449645e-07</td>\n",
              "      <td>0.000268</td>\n",
              "      <td>-96.167517</td>\n",
              "      <td>4.269294e-07</td>\n",
              "    </tr>\n",
              "    <tr>\n",
              "      <th>21</th>\n",
              "      <td>699.280940</td>\n",
              "      <td>3.250586e-07</td>\n",
              "      <td>0.000227</td>\n",
              "      <td>-105.227818</td>\n",
              "      <td>2.836283e-07</td>\n",
              "    </tr>\n",
              "    <tr>\n",
              "      <th>22</th>\n",
              "      <td>804.508758</td>\n",
              "      <td>2.454438e-07</td>\n",
              "      <td>0.000197</td>\n",
              "      <td>-92.644748</td>\n",
              "      <td>2.763917e-07</td>\n",
              "    </tr>\n",
              "    <tr>\n",
              "      <th>23</th>\n",
              "      <td>897.153506</td>\n",
              "      <td>1.915564e-07</td>\n",
              "      <td>0.000172</td>\n",
              "      <td>-95.571885</td>\n",
              "      <td>1.931096e-07</td>\n",
              "    </tr>\n",
              "    <tr>\n",
              "      <th>24</th>\n",
              "      <td>992.725391</td>\n",
              "      <td>1.545237e-07</td>\n",
              "      <td>0.000153</td>\n",
              "      <td>NaN</td>\n",
              "      <td>NaN</td>\n",
              "    </tr>\n",
              "  </tbody>\n",
              "</table>\n",
              "</div>"
            ],
            "text/plain": [
              "        energy          flux  flux_int          dE      flux_dif\n",
              "0     1.011418  2.284818e-03  0.002311   -1.012438  4.420583e-04\n",
              "1     2.023856  9.206930e-04  0.001863   -1.035098  2.230494e-04\n",
              "2     3.058954  5.336699e-04  0.001632   -0.990798  1.312070e-04\n",
              "3     4.049752  3.710035e-04  0.001502   -0.987641  9.246141e-05\n",
              "4     5.037393  2.801357e-04  0.001411   -0.988901  9.466604e-05\n",
              "5     6.026294  2.186316e-04  0.001318   -1.016575  5.383560e-05\n",
              "6     7.042868  1.793034e-04  0.001263   -0.997864  4.077755e-05\n",
              "7     8.040732  1.519911e-04  0.001222   -0.997052  5.787001e-05\n",
              "8     9.037784  1.288391e-04  0.001164   -1.042081  2.549424e-05\n",
              "9    10.079865  1.128838e-04  0.001138   -9.937319  4.608579e-06\n",
              "10   20.017183  5.455595e-05  0.001092  -10.241716  1.741754e-06\n",
              "11   30.258900  3.550089e-05  0.001074   -9.804626  2.863848e-08\n",
              "12   40.063526  2.680586e-05  0.001074  -10.162939  2.279777e-06\n",
              "13   50.226465  2.092060e-05  0.001051  -19.998670  3.941492e-06\n",
              "14   70.225135  1.384039e-05  0.000972  -30.284067  2.693350e-06\n",
              "15  100.509201  8.858668e-06  0.000890  -99.024482  2.477561e-06\n",
              "16  199.533683  3.232730e-06  0.000645 -102.006185  1.470311e-06\n",
              "17  301.539868  1.641765e-06  0.000495  -97.609411  9.825726e-07\n",
              "18  399.149280  1.000000e-06  0.000399  -97.269112  7.272093e-07\n",
              "19  496.418392  6.615675e-07  0.000328 -106.695032  5.628211e-07\n",
              "20  603.113423  4.449645e-07  0.000268  -96.167517  4.269294e-07\n",
              "21  699.280940  3.250586e-07  0.000227 -105.227818  2.836283e-07\n",
              "22  804.508758  2.454438e-07  0.000197  -92.644748  2.763917e-07\n",
              "23  897.153506  1.915564e-07  0.000172  -95.571885  1.931096e-07\n",
              "24  992.725391  1.545237e-07  0.000153         NaN           NaN"
            ]
          },
          "metadata": {},
          "execution_count": 13
        }
      ]
    },
    {
      "cell_type": "code",
      "source": [
        "dfP1.head()\n",
        "\n",
        "dfN.query('pdg_id==2112')/(time_NYC * S)"
      ],
      "metadata": {
        "colab": {
          "base_uri": "https://localhost:8080/",
          "height": 424
        },
        "id": "ebPpo5jrMm21",
        "outputId": "afddddde-bd87-455b-b049-45160aeb7ac7"
      },
      "execution_count": 14,
      "outputs": [
        {
          "output_type": "execute_result",
          "data": {
            "text/html": [
              "<div>\n",
              "<style scoped>\n",
              "    .dataframe tbody tr th:only-of-type {\n",
              "        vertical-align: middle;\n",
              "    }\n",
              "\n",
              "    .dataframe tbody tr th {\n",
              "        vertical-align: top;\n",
              "    }\n",
              "\n",
              "    .dataframe thead th {\n",
              "        text-align: right;\n",
              "    }\n",
              "</style>\n",
              "<table border=\"1\" class=\"dataframe\">\n",
              "  <thead>\n",
              "    <tr style=\"text-align: right;\">\n",
              "      <th></th>\n",
              "      <th>evt</th>\n",
              "      <th>pdg_id</th>\n",
              "      <th>energy</th>\n",
              "    </tr>\n",
              "  </thead>\n",
              "  <tbody>\n",
              "    <tr>\n",
              "      <th>30</th>\n",
              "      <td>6.271846e-07</td>\n",
              "      <td>0.000051</td>\n",
              "      <td>1.652072e-07</td>\n",
              "    </tr>\n",
              "    <tr>\n",
              "      <th>31</th>\n",
              "      <td>6.271846e-07</td>\n",
              "      <td>0.000051</td>\n",
              "      <td>9.977542e-07</td>\n",
              "    </tr>\n",
              "    <tr>\n",
              "      <th>33</th>\n",
              "      <td>6.271846e-07</td>\n",
              "      <td>0.000051</td>\n",
              "      <td>1.231928e-06</td>\n",
              "    </tr>\n",
              "    <tr>\n",
              "      <th>48</th>\n",
              "      <td>8.684094e-07</td>\n",
              "      <td>0.000051</td>\n",
              "      <td>2.004241e-06</td>\n",
              "    </tr>\n",
              "    <tr>\n",
              "      <th>49</th>\n",
              "      <td>8.684094e-07</td>\n",
              "      <td>0.000051</td>\n",
              "      <td>1.933661e-06</td>\n",
              "    </tr>\n",
              "    <tr>\n",
              "      <th>...</th>\n",
              "      <td>...</td>\n",
              "      <td>...</td>\n",
              "      <td>...</td>\n",
              "    </tr>\n",
              "    <tr>\n",
              "      <th>1356853</th>\n",
              "      <td>2.412133e-02</td>\n",
              "      <td>0.000051</td>\n",
              "      <td>3.582310e-06</td>\n",
              "    </tr>\n",
              "    <tr>\n",
              "      <th>1356869</th>\n",
              "      <td>2.412152e-02</td>\n",
              "      <td>0.000051</td>\n",
              "      <td>4.440708e-09</td>\n",
              "    </tr>\n",
              "    <tr>\n",
              "      <th>1356882</th>\n",
              "      <td>2.412178e-02</td>\n",
              "      <td>0.000051</td>\n",
              "      <td>4.662297e-08</td>\n",
              "    </tr>\n",
              "    <tr>\n",
              "      <th>1356905</th>\n",
              "      <td>2.412217e-02</td>\n",
              "      <td>0.000051</td>\n",
              "      <td>5.866902e-06</td>\n",
              "    </tr>\n",
              "    <tr>\n",
              "      <th>1356910</th>\n",
              "      <td>2.412227e-02</td>\n",
              "      <td>0.000051</td>\n",
              "      <td>6.580155e-09</td>\n",
              "    </tr>\n",
              "  </tbody>\n",
              "</table>\n",
              "<p>85411 rows × 3 columns</p>\n",
              "</div>"
            ],
            "text/plain": [
              "                  evt    pdg_id        energy\n",
              "30       6.271846e-07  0.000051  1.652072e-07\n",
              "31       6.271846e-07  0.000051  9.977542e-07\n",
              "33       6.271846e-07  0.000051  1.231928e-06\n",
              "48       8.684094e-07  0.000051  2.004241e-06\n",
              "49       8.684094e-07  0.000051  1.933661e-06\n",
              "...               ...       ...           ...\n",
              "1356853  2.412133e-02  0.000051  3.582310e-06\n",
              "1356869  2.412152e-02  0.000051  4.440708e-09\n",
              "1356882  2.412178e-02  0.000051  4.662297e-08\n",
              "1356905  2.412217e-02  0.000051  5.866902e-06\n",
              "1356910  2.412227e-02  0.000051  6.580155e-09\n",
              "\n",
              "[85411 rows x 3 columns]"
            ]
          },
          "metadata": {},
          "execution_count": 14
        }
      ]
    },
    {
      "cell_type": "code",
      "source": [
        "import numpy as np\n",
        "(counts, bins) = np.histogram(dfN.query('pdg_id==2112')['energy'], bins=np.arange(0, 10000, 10))\n",
        "timeArea = 1/(time_NYC * S)\n",
        "plt.hist(bins[:-1], bins, weights=timeArea*counts, histtype='step')\n",
        "plt.plot(dfP1['energy'], dfP1['flux_dif'])\n",
        "plt.yscale('log')\n",
        "plt.xlim(100, 1000)\n",
        "#"
      ],
      "metadata": {
        "colab": {
          "base_uri": "https://localhost:8080/",
          "height": 349
        },
        "id": "m6kIyZ-6PSzX",
        "outputId": "9e945650-2ea5-4b70-8e50-d1add49874a8"
      },
      "execution_count": 20,
      "outputs": [
        {
          "output_type": "execute_result",
          "data": {
            "text/plain": [
              "(100.0, 1000.0)"
            ]
          },
          "metadata": {},
          "execution_count": 20
        },
        {
          "output_type": "display_data",
          "data": {
            "image/png": "[encoded data removed]",
            "text/plain": [
              "<Figure size 720x360 with 1 Axes>"
            ]
          },
          "metadata": {}
        }
      ]
    },
    {
      "cell_type": "code",
      "metadata": {
        "id": "09gDOn8wNGMN"
      },
      "source": [
        "plt.plot(dfP1.energy, dfP1.flux, '.-')\n",
        "plt.xscale('log')\n",
        "plt.yscale('log')\n",
        "plt.xlabel('Neutron energy [MeV]')\n",
        "plt.ylabel('Flux [n/cm-2 sec-1 MeV-1]');\n",
        "plt.figure()\n",
        "\n",
        "plt.plot(dfP1.energy, dfP1.flux*dfP1.energy, '.-')\n",
        "plt.xlabel('Neutron energy [MeV]')\n",
        "plt.ylabel('Flux [n/cm-2 sec-1]');\n",
        "plt.ylim(0,0.0025)\n"
      ],
      "execution_count": null,
      "outputs": []
    },
    {
      "cell_type": "code",
      "metadata": {
        "id": "lQbQIRhsYJrD"
      },
      "source": [
        "\"\"\"\n",
        "682,4587706146926; 0,03722751488333503\n",
        "719,7901049475262; 0,033230211350635364\n",
        "826,3868065967017; 0,021844005181875077\n",
        "1011,2443778110944; 0,0019784828459556564\n",
        "1027,8860569715143; 0,0008896158716758043\n",
        "\"\"\"\n"
      ],
      "execution_count": null,
      "outputs": []
    },
    {
      "cell_type": "code",
      "metadata": {
        "id": "bu_F67nyhxxx"
      },
      "source": [
        "x_s = [14, 167, 1905, 3150, 3450]\n",
        "y_s = [0.0008896158716758043, 0.0019784828459556564, 0.021844005181875077, 0.033230211350635364, 0.03722751488333503]\n",
        "x=[0,2100,11300]\n",
        "y=[len(dfH.query('pdg_id==2112 & energy > 10'))/(time_Houtson * S), len(df2100.query('pdg_id==2112 & energy > 10'))/(time_2100 * S), len(dfF11300.query('pdg_id==2112 & energy > 10'))/(time_Fremont_11300 * S)]\n",
        "# y=[len(dfH.query('pdg_id==2112 & energy > 10'))/(time_Houtson * S), len(dfL2100.query('pdg_id==2112 & energy > 10'))/(time_Leadville_2100 * S), len(dfF11300.query('pdg_id==2112 & energy > 10'))/(time_Fremont_11300 * S)]\n",
        "plt.plot(x,y,'.--', label='CRY')\n",
        "plt.plot(x_s,y_s,'.-', label='data')\n",
        "plt.legend()\n",
        "plt.xlabel('Altitude [meters]')\n",
        "plt.ylabel('Flux, E > 10 MeV [cm-2 s-1]')\n",
        "# plt.xscale('log')\n",
        "plt.yscale('log')\n",
        "# plt.xlim(-1,4000)\n",
        "# plt.ylim(0,0.05)\n",
        "# plt.xlim(-10,4000)\n",
        "# plt.ylim(0,0.05)\n",
        "# Measurement of the flux and energy spectrum of cosmic-ray induced neutrons on the ground"
      ],
      "execution_count": null,
      "outputs": []
    },
    {
      "cell_type": "code",
      "metadata": {
        "id": "m9DXnsr7OCsC"
      },
      "source": [
        "h5file='drive/MyDrive/root_files_dzhadan/cry4df_9000.h5'"
      ],
      "execution_count": null,
      "outputs": []
    },
    {
      "cell_type": "code",
      "metadata": {
        "id": "PpArqL5sOHey"
      },
      "source": [
        "df = pd.read_hdf(h5file, mode='r')"
      ],
      "execution_count": null,
      "outputs": []
    },
    {
      "cell_type": "code",
      "metadata": {
        "id": "n1TnLM2uOmRs"
      },
      "source": [
        "TMIN = -125\n",
        "TMAX = 50\n",
        "PMIN_EXT = 90\n",
        "PMAX_EXT = 140\n",
        "PMIN_PHY = 103.85\n",
        "PMAX_PHY = 105.1\n",
        "\n",
        "#Default MDC-style cut box\n",
        "cuts = [\n",
        "    \"(de_status > 0)\",\n",
        "    \"(deent_td > 0.577350)\",\n",
        "    \"(deent_td < 1.000)\",\n",
        "    \"(deent_d0 > -80)\",\n",
        "    \"(deent_d0 < 105)\",\n",
        "    \"((deent_d0 + 2./deent_om) > 450)\",\n",
        "    \"((deent_d0 + 2./deent_om) < 680)\",\n",
        "    \"(is_triggered)\"\n",
        "]\n",
        "cut_tbox = \" & \".join(cuts)\n",
        "\n",
        "#PID, TrkQual and cut on events with an usptream leg\n",
        "cuts = [\n",
        "    \"(dequal_TrkQual > 0.8)\",\n",
        "    \"(dequal_TrkPID > 0.95)\",\n",
        "    \"(ue_status <= 0)\"\n",
        "]\n",
        "cut_pid_trkqual_ue = \" & \".join(cuts)\n",
        "\n",
        "# Extended momentum window cut`\n",
        "cuts = [\n",
        "    \"(deent_mom > %f)\" % PMIN_EXT,\n",
        "    \"(deent_mom < %f)\" % PMAX_EXT\n",
        "]\n",
        "cut_extmom = \" & \".join(cuts)\n",
        "\n",
        "# Physics momentum window cut`\n",
        "cuts = [\n",
        "    \"(deent_mom > %f)\" % PMIN_PHY,\n",
        "    \"(deent_mom < %f)\" % PMAX_PHY,\n",
        "]\n",
        "cut_phymom = \" & \".join(cuts)\n",
        "\n",
        "# Loose box cuts\n",
        "cuts = [\n",
        "    \"(deent_td > 0.577350)\",\n",
        "    \"(deent_td < 1.000)\",\n",
        "    \"(deent_d0 > -80)\",\n",
        "    \"(deent_d0 < 205)\",\n",
        "    \"((deent_d0 + 2./deent_om) > 450)\",\n",
        "    \"(is_triggered)\"\n",
        "]\n",
        "cut_lbox = \" & \".join(cuts)\n",
        "\n",
        "\n",
        "crv_time = \"( crvinfo__dT < %d | crvinfo__dT > %d)\" % (TMIN, TMAX)\n",
        "#Combime cuts\n",
        "cut_nomom  = cut_tbox +\" & \"+cut_pid_trkqual_ue\n",
        "cut_extmom = cut_tbox +\" & \"+cut_pid_trkqual_ue+\" & \"+cut_extmom\n",
        "cut_phymom = cut_tbox +\" & \"+cut_pid_trkqual_ue+\" & \"+cut_phymom\n",
        "cut_loose  = cut_lbox +\" & \"+cut_pid_trkqual_ue\n",
        "\n",
        "cut_current = cut_extmom+\" & \"+crv_time"
      ],
      "execution_count": null,
      "outputs": []
    },
    {
      "cell_type": "code",
      "metadata": {
        "id": "ASVCbVsV94cw"
      },
      "source": [
        "import numpy as np\n",
        "\n",
        "def GetNeutKE(df):\n",
        "  nmass = 936 # MeV, neutron mass\n",
        "  df_neut = df.query('demcgen_pdg==2112')\n",
        "  mom2 = df_neut.demcgen_momx*df_neut.demcgen_momx+df_neut.demcgen_momy*df_neut.demcgen_momy+df_neut.demcgen_momz*df_neut.demcgen_momz\n",
        "  en2 = mom2 + nmass*nmass\n",
        "  ke = np.sqrt(en2.to_numpy()) - nmass \n",
        "  return ke"
      ],
      "execution_count": null,
      "outputs": []
    },
    {
      "cell_type": "code",
      "metadata": {
        "id": "CTBMaUW2_2ok"
      },
      "source": [
        "plt.xlabel('Neutron energy [MeV]')\n",
        "plt.ylabel('Neutron amount')\n",
        "plt.hist(GetNeutKE(df), histtype='step', bins=1000, label='all neutrons');\n",
        "plt.hist(GetNeutKE(df.query(cut_current)), histtype='step', bins=1000, label='all neutrons');\n",
        "\n",
        "#plt.hist(mom_arr, histtype='step', bins=1000, label='neutrons that\\nproduced\\nbackground');\n",
        "plt.legend()\n",
        "plt.xscale('log')\n",
        "plt.yscale('log')\n",
        "print(ke.mean())\n",
        "print(np.median(ke))\n",
        "plt.figure()\n",
        "plt.hist(ke, histtype='step', bins=1000);\n",
        "plt.xlim(0, 10000)\n",
        "\n",
        "\n",
        "# # plt.xscale('log')\n",
        "# plt.yscale('log')\n",
        "# plt.legend()\n",
        "# plt.xlim(10,1000)\n",
        "# plt.ylim(0,0.0025)"
      ],
      "execution_count": null,
      "outputs": []
    },
    {
      "cell_type": "code",
      "metadata": {
        "id": "J5Yj2cKc_KGN"
      },
      "source": [
        "len(df_neut)"
      ],
      "execution_count": null,
      "outputs": []
    },
    {
      "cell_type": "code",
      "metadata": {
        "id": "ZA1uuOkMOOSd"
      },
      "source": [
        "momdf = df.query('is_high==0 & %s & lyield ==%s' % (cut_current+\" & _crvSectorType < 0 & abs(demcgen_pdg) ==2112\", \"9000\")).filter(items=['demcgen_momx','demcgen_momy', 'demcgen_momz'])\n",
        "mom_arr = []\n",
        "for i in momdf.iterrows():\n",
        "  mom_arr.append((i[1][0]**2 + i[1][1]**2 + i[1][2]**2 + 936**2)**(1/2) - 936 )\n",
        "print(mom_arr)"
      ],
      "execution_count": null,
      "outputs": []
    },
    {
      "cell_type": "code",
      "metadata": {
        "id": "m3G-SCSyRclp"
      },
      "source": [
        "print(len(mom_arr))\n",
        "print(len(list(filter(lambda x: x > 8000 , mom_arr))))\n",
        "print(min(mom_arr))"
      ],
      "execution_count": null,
      "outputs": []
    },
    {
      "cell_type": "code",
      "metadata": {
        "id": "U1y82VOqvZpO"
      },
      "source": [
        "df_Paper3 = 'drive/MyDrive/root_files_dzhadan/CRY/Article_Neutron production targets for a new Single Event Effects facility at the 70.txt'\n",
        "f2 = ''\n",
        "with open(df_Paper3, 'r') as f:\n",
        "  f1 = f.read()\n",
        "  f2 = f1.replace(',', '.')\n",
        "\n",
        "with open(df_Paper3, 'w') as f:\n",
        "  f.write(f2)\n"
      ],
      "execution_count": 22,
      "outputs": []
    },
    {
      "cell_type": "code",
      "metadata": {
        "id": "QMbqdtOHL75w",
        "colab": {
          "base_uri": "https://localhost:8080/"
        },
        "outputId": "5f419216-974c-4b6a-ea7b-541e9436d58e"
      },
      "source": [
        "df_Paper2 = 'drive/MyDrive/root_files_dzhadan/CRY/Article_Neutron production targets for a new Single Event Effects facility at the 70.txt'\n",
        "dfP2 = pd.read_csv(df_Paper2, sep=\"; \", header=None)\n",
        "dfP2.columns = [\"energy\", \"flux\"]\n",
        "#Neutron production targets for a new Single Event Effectsfacility at the 70 MeV Cyclotron of LNL-INFN"
      ],
      "execution_count": 21,
      "outputs": [
        {
          "output_type": "stream",
          "name": "stderr",
          "text": [
            "/usr/local/lib/python3.7/dist-packages/ipykernel_launcher.py:2: ParserWarning: Falling back to the 'python' engine because the 'c' engine does not support regex separators (separators > 1 char and different from '\\s+' are interpreted as regex); you can avoid this warning by specifying engine='python'.\n",
            "  \n"
          ]
        }
      ]
    },
    {
      "cell_type": "code",
      "metadata": {
        "id": "5nP50LH6Xv06"
      },
      "source": [
        "x=[]\n",
        "y=[]\n",
        "for en in range(1, 10000, 1):\n",
        "  x.append(en)\n",
        "  flux = len(dfN.query('pdg_id==2112 & energy > %f'%en)) / (time_NYC * S)\n",
        "  y.append(flux)"
      ],
      "execution_count": 23,
      "outputs": []
    },
    {
      "cell_type": "code",
      "metadata": {
        "id": "2_3MvtVGMdad",
        "colab": {
          "base_uri": "https://localhost:8080/",
          "height": 706
        },
        "outputId": "b0529182-fc24-4891-be9f-7ae79fcfcad6"
      },
      "source": [
        "plt.plot(dfP1.energy, dfP1.flux, '.--', label='data1')\n",
        "plt.plot(dfP2.energy, dfP2.flux, '.-', label='data2')\n",
        "plt.legend()\n",
        "plt.xscale('log')\n",
        "plt.yscale('log')\n",
        "plt.xlabel('Neutron energy [MeV]')\n",
        "plt.ylabel('Flux [n/cm-2 sec-1 MeV-1]');\n",
        "plt.figure()\n",
        "\n",
        "plt.plot(dfP1.energy, dfP1.flux*dfP1.energy, '.--', label='data1')\n",
        "plt.plot(dfP2.energy, dfP2.flux*dfP2.energy, '*-', label='data2')\n",
        "plt.plot(x,y,'.-', label='CRY')\n",
        "plt.xlabel('Neutron energy [MeV]')\n",
        "plt.ylabel('Flux [n/cm-2 sec-1]')\n",
        "# plt.xscale('log')\n",
        "plt.yscale('log')\n",
        "plt.legend()\n",
        "plt.xlim(500,4000)\n",
        "# plt.ylim(0,0.0025)"
      ],
      "execution_count": 24,
      "outputs": [
        {
          "output_type": "execute_result",
          "data": {
            "text/plain": [
              "(500.0, 4000.0)"
            ]
          },
          "metadata": {},
          "execution_count": 24
        },
        {
          "output_type": "display_data",
          "data": {
            "image/png": "[encoded data removed]",
            "text/plain": [
              "<Figure size 720x360 with 1 Axes>"
            ]
          },
          "metadata": {}
        },
        {
          "output_type": "display_data",
          "data": {
            "image/png": "[encoded data removed]",
            "text/plain": [
              "<Figure size 720x360 with 1 Axes>"
            ]
          },
          "metadata": {}
        }
      ]
    },
    {
      "cell_type": "code",
      "metadata": {
        "id": "sClinjYPGfda"
      },
      "source": [
        "P1x=[]\n",
        "P1y=[]\n",
        "for en in dfP1.energy.array:\n",
        "  P1x.append(en)\n",
        "  flux = len(dfN.query('pdg_id==2112 & energy > %f'%en)) / (time_NYC * S)\n",
        "  P1y.append(flux)"
      ],
      "execution_count": 25,
      "outputs": []
    },
    {
      "cell_type": "code",
      "metadata": {
        "id": "JEDM-2kbK3g-"
      },
      "source": [
        "P2x=[]\n",
        "P2y=[]\n",
        "for en in dfP2.energy.array:\n",
        "  P2x.append(en)\n",
        "  flux = len(dfN.query('pdg_id==2112 & energy > %f'%en)) / (time_NYC * S)\n",
        "  P2y.append(flux)"
      ],
      "execution_count": 26,
      "outputs": []
    },
    {
      "cell_type": "code",
      "metadata": {
        "id": "atW0vl_AJSOK"
      },
      "source": [
        "N1y = dfP1.flux*dfP1.energy/P1y\n",
        "N2y = dfP2.flux*dfP2.energy/P2y"
      ],
      "execution_count": 27,
      "outputs": []
    },
    {
      "cell_type": "code",
      "metadata": {
        "id": "ZrQK3qztK7Qm",
        "colab": {
          "base_uri": "https://localhost:8080/",
          "height": 369
        },
        "outputId": "fc6e207e-c992-4a3e-ae50-fb1e78bcd7ef"
      },
      "source": [
        "plt.plot(dfP1.energy, N1y, '.--', label='data1 / CRY')\n",
        "plt.plot(dfP2.energy, N2y, '*-', label='data2 / CRY')\n",
        "plt.xlabel('Neutron energy [MeV]')\n",
        "plt.ylabel('Ratio')\n",
        "# plt.xscale('log')\n",
        "# plt.yscale('log')\n",
        "plt.legend()\n",
        "#plt.xlim(200,2000)\n",
        "# plt.ylim(0,0.0025)"
      ],
      "execution_count": 28,
      "outputs": [
        {
          "output_type": "execute_result",
          "data": {
            "text/plain": [
              "<matplotlib.legend.Legend at 0x7f72c4479190>"
            ]
          },
          "metadata": {},
          "execution_count": 28
        },
        {
          "output_type": "display_data",
          "data": {
            "image/png": "[encoded data removed]",
            "text/plain": [
              "<Figure size 720x360 with 1 Axes>"
            ]
          },
          "metadata": {}
        }
      ]
    },
    {
      "cell_type": "code",
      "metadata": {
        "id": "dCn2hg2saRGt"
      },
      "source": [
        "def get_koefflux(energy, k_energy, koef, last = 1):\n",
        "  n_back = sorted(energy)\n",
        "  i_start = 0;\n",
        "  nflux_back = []\n",
        "  for n_en in n_back:\n",
        "    for i in range(i_start, len(k_energy) - 1):\n",
        "      if n_en >= k_energy[i] and n_en < k_energy[i+1]:\n",
        "        diff = [n_en - k_energy[i], k_energy[i+1] - n_en]\n",
        "        nflux_back.append(koef[i + diff.index(min(diff))])\n",
        "        i_start = i\n",
        "        break\n",
        "      elif n_en > k_energy[len(k_energy) - 1]:\n",
        "        if last:\n",
        "          nflux_back.append(koef[len(k_energy) - 1])\n",
        "        else:\n",
        "          nflux_back.append(1)\n",
        "        break\n",
        "  return nflux_back"
      ],
      "execution_count": null,
      "outputs": []
    },
    {
      "cell_type": "code",
      "metadata": {
        "id": "E_ipuxzWbReI"
      },
      "source": [
        "kP2 = get_koefflux(mom_arr, dfP2.energy, N2y)\n",
        "kP1 = get_koefflux(mom_arr, dfP1.energy, N1y, 0)\n",
        "\n",
        "# np.sum(np.array(kP1), )\n",
        "nflux_back = (np.array(kP2) + np.array(kP1))/2\n"
      ],
      "execution_count": null,
      "outputs": []
    },
    {
      "cell_type": "code",
      "metadata": {
        "id": "DFDiSmm5VdSV"
      },
      "source": [
        "print(sum(kP2)/len(mom_arr))\n",
        "len(df_neut)"
      ],
      "execution_count": null,
      "outputs": []
    },
    {
      "cell_type": "code",
      "metadata": {
        "id": "IG1QV1JcIToE"
      },
      "source": [
        "sorted(mom_arr)\n",
        "dfP1.energy\n",
        "# N1y[20]"
      ],
      "execution_count": null,
      "outputs": []
    },
    {
      "cell_type": "code",
      "metadata": {
        "id": "BWD2dDX1WRzt"
      },
      "source": [
        "plt.figure()\n",
        "plt.plot(x,y,'.-', label='CRY')\n",
        "plt.plot(dfP2.energy, dfP2.flux*dfP2.energy, '.--', label='data')\n",
        "plt.xlabel('Neutron energy [MeV]')\n",
        "plt.ylabel('Flux [n/cm-2 sec-1]');\n",
        "plt.legend()\n",
        "plt.xlim(10,1000)\n",
        "plt.ylim(0,0.0015)"
      ],
      "execution_count": null,
      "outputs": []
    },
    {
      "cell_type": "markdown",
      "metadata": {
        "id": "eS1F8LFKMtSx"
      },
      "source": [
        "#Backup"
      ]
    },
    {
      "cell_type": "code",
      "metadata": {
        "id": "eloAHACY9Q7T"
      },
      "source": [
        "for i in df.query('is_high==0 & %s & lyield ==%s' % (cut_current+\" & _crvSectorType < 0 & abs(demcgen_pdg) ==2112\", \"9000\")).filter(items=['demcgen_momx','demcgen_momy', 'demcgen_momz']).iterrows():\n",
        "  print(i)"
      ],
      "execution_count": null,
      "outputs": []
    },
    {
      "cell_type": "code",
      "metadata": {
        "id": "VZCcLtv4RO4t"
      },
      "source": [
        "x=[]\n",
        "y=[]\n",
        "amount = 1\n",
        "en = 1\n",
        "while(amount):\n",
        "  x.append(en)\n",
        "  amount = len(list(filter(lambda x: x > en , mom_arr)))\n",
        "  y.append(amount)\n",
        "  en = en + 1\n",
        "plt.plot(x,y,'.')\n",
        "plt.xlabel('Neutron energy [MeV]')\n",
        "plt.ylabel('Neutron amount')\n",
        "plt.xlim(-1,1000)\n",
        "# plt.ylim(0,0.05)"
      ],
      "execution_count": null,
      "outputs": []
    }
  ]
}