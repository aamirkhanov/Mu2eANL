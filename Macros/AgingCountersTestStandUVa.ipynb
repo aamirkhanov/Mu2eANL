{
  "nbformat": 4,
  "nbformat_minor": 0,
  "metadata": {
    "colab": {
      "name": "AgingCountersTestStandUVa.ipynb",
      "provenance": [],
      "collapsed_sections": [
        "z7EVa9BKD8R0"
      ],
      "include_colab_link": true
    },
    "kernelspec": {
      "name": "python3",
      "display_name": "Python 3"
    }
  },
  "cells": [
    {
      "cell_type": "markdown",
      "metadata": {
        "id": "view-in-github",
        "colab_type": "text"
      },
      "source": [
        "<a href=\"https://colab.research.google.com/github/oksuzian/Mu2eANL/blob/master/Macros/AgingCountersTestStandUVa.ipynb\" target=\"_parent\"><img src=\"https://colab.research.google.com/assets/colab-badge.svg\" alt=\"Open In Colab\"/></a>"
      ]
    },
    {
      "cell_type": "markdown",
      "metadata": {
        "id": "vYvaR58jEBT1"
      },
      "source": [
        "#Init and load data"
      ]
    },
    {
      "cell_type": "code",
      "metadata": {
        "id": "QglETdmPa9Ry"
      },
      "source": [
        "import pandas as pd\n",
        "import matplotlib.pyplot as plt\n",
        "import matplotlib.dates as mdates\n",
        "from matplotlib.dates import DateFormatter\n",
        "import numpy.polynomial.polynomial as poly\n",
        "import numpy as np\n",
        "import scipy\n",
        "from scipy.optimize import curve_fit\n",
        "import statistics\n",
        "import math\n",
        "from datetime import datetime, timedelta"
      ],
      "execution_count": 8,
      "outputs": []
    },
    {
      "cell_type": "code",
      "metadata": {
        "id": "hOATIu5SQ-Zb",
        "colab": {
          "base_uri": "https://localhost:8080/"
        },
        "outputId": "dd8236a2-6ffe-42e1-c2af-bc5c8e8c65da"
      },
      "source": [
        "try:\n",
        "    from google.colab import drive\n",
        "    drive.mount(\"/content/drive\", force_remount=True)\n",
        "    main_path = '/content/drive/MyDrive/'\n",
        "    print(main_path)\n",
        "except:\n",
        "    main_path = ''\n",
        "main_path = '/content/drive/MyDrive/'"
      ],
      "execution_count": 9,
      "outputs": [
        {
          "output_type": "stream",
          "text": [
            "Mounted at /content/drive\n",
            "/content/drive/MyDrive/\n"
          ],
          "name": "stdout"
        }
      ]
    },
    {
      "cell_type": "code",
      "metadata": {
        "colab": {
          "base_uri": "https://localhost:8080/"
        },
        "id": "drW5h8E-AtgI",
        "outputId": "505132b7-0ab7-40a4-de9c-3cc81789c734"
      },
      "source": [
        "!tail drive/MyDrive/ScanningData_NaturalAging.txt"
      ],
      "execution_count": 10,
      "outputs": [
        {
          "output_type": "stream",
          "text": [
            "\t2/6/2021 5:46 PM\t0\t0.0856\t-0.0004\t0.3043\t0.6187\t0.1691\t0.1576\t0.1376\t0.1435\t0.1400\t0.1779\t0.1748\t0.1778\t0.1585\t0.1514\t0.1432\t0.1573\t0.2458\t0.1262\t0.1169\t0.2136\t0.1454\t0.1298\t0.1251\t0.1300\t0.1601\t0.1687\t0.1768\t0.1610\t0.1996\t0.1449\t0.1328\t0.1653\t0.2372\t0.1789\t0.1678\t0.1894\t3.0696\t0.1803\t0.2415\t0.2935\t2.8604\t0.2813\t0.2044\t0.2590\t2.8686\t0.2703\t0.2112\t0.2610\t2.8581\t0.2041\t0.2134\t0.2209\t2.8560\t0.1945\t0.2130\t0.2711\t2.8671\t0.2057\t0.2464\t0.2558\t0.2769\t0.2686\t0.2699\t0.3099\t4063.17\t20.65\t21.82\t21.33\t0.00\t0.00\t0.00\t0.00\t\r\n",
            "\t2/6/2021 5:53 PM\t0\t0.0606\t-0.0005\t0.3074\t0.5944\t0.1709\t0.1580\t0.1396\t0.1428\t0.1383\t0.1785\t0.1751\t0.1789\t0.1607\t0.1527\t0.1424\t0.1589\t0.2446\t0.1267\t0.1162\t0.2120\t0.1436\t0.1277\t0.1228\t0.1302\t0.1603\t0.1692\t0.1766\t0.1601\t0.1984\t0.1445\t0.1345\t0.1632\t0.2455\t0.1768\t0.1695\t0.1872\t3.0695\t0.1825\t0.2422\t0.2909\t2.8602\t0.2822\t0.2044\t0.2565\t2.8684\t0.2689\t0.2104\t0.2595\t2.8581\t0.2009\t0.2075\t0.2236\t2.8560\t0.1945\t0.2103\t0.2696\t2.8671\t0.2030\t0.2444\t0.2490\t0.2741\t0.2686\t0.2682\t0.3100\t4063.17\t20.65\t21.82\t21.33\t0.00\t0.00\t0.00\t0.00\t\r\n",
            "\t2/6/2021 6:00 PM\t0\t0.0686\t-0.0004\t0.3018\t0.5815\t0.1713\t0.1572\t0.1364\t0.1444\t0.1390\t0.1777\t0.1754\t0.1761\t0.1610\t0.1532\t0.1426\t0.1585\t0.2458\t0.1263\t0.1159\t0.2127\t0.1470\t0.1296\t0.1240\t0.1305\t0.1599\t0.1692\t0.1759\t0.1618\t0.2032\t0.1430\t0.1339\t0.1648\t0.2377\t0.1789\t0.1715\t0.1887\t3.0697\t0.1829\t0.2425\t0.2927\t2.8603\t0.2802\t0.2051\t0.2571\t2.8686\t0.2680\t0.2132\t0.2598\t2.8582\t0.2028\t0.2084\t0.2191\t2.8562\t0.1920\t0.2109\t0.2699\t2.8671\t0.2052\t0.2436\t0.2534\t0.2739\t0.2664\t0.2703\t0.3102\t4063.17\t20.58\t21.76\t21.27\t0.00\t0.00\t0.00\t0.00\t\r\n",
            "\t2/6/2021 6:07 PM\t0\t0.0693\t-0.0005\t0.3019\t0.5724\t0.1720\t0.1586\t0.1380\t0.1429\t0.1394\t0.1786\t0.1741\t0.1791\t0.1599\t0.1514\t0.1420\t0.1572\t0.2458\t0.1268\t0.1154\t0.2099\t0.1458\t0.1293\t0.1244\t0.1302\t0.1609\t0.1691\t0.1738\t0.1626\t0.1973\t0.1432\t0.1343\t0.1650\t0.2382\t0.1736\t0.1683\t0.1911\t3.0696\t0.1818\t0.2388\t0.2924\t2.8602\t0.2788\t0.2039\t0.2577\t2.8685\t0.2680\t0.2085\t0.2602\t2.8582\t0.2053\t0.2105\t0.2208\t2.8561\t0.1911\t0.2103\t0.2701\t2.8671\t0.2036\t0.2441\t0.2497\t0.2784\t0.2692\t0.2676\t0.3113\t4063.17\t20.65\t21.76\t21.27\t0.00\t0.00\t0.00\t0.00\t\r\n",
            "\t2/6/2021 6:14 PM\t0\t0.0716\t-0.0005\t0.3070\t0.5496\t0.1709\t0.1564\t0.1364\t0.1456\t0.1372\t0.1795\t0.1759\t0.1772\t0.1612\t0.1537\t0.1424\t0.1577\t0.2462\t0.1268\t0.1158\t0.2141\t0.1447\t0.1276\t0.1246\t0.1294\t0.1609\t0.1676\t0.1753\t0.1602\t0.1994\t0.1453\t0.1337\t0.1655\t0.2343\t0.1826\t0.1684\t0.1879\t3.0697\t0.1815\t0.2426\t0.2929\t2.8603\t0.2810\t0.2035\t0.2552\t2.8685\t0.2693\t0.2123\t0.2602\t2.8582\t0.2025\t0.2074\t0.2207\t2.8560\t0.1930\t0.2124\t0.2665\t2.8671\t0.2039\t0.2450\t0.2514\t0.2783\t0.2691\t0.2684\t0.3117\t4063.17\t20.65\t21.76\t21.27\t0.00\t0.00\t0.00\t0.00\t\r\n",
            "\t2/6/2021 6:20 PM\t0\t0.0694\t-0.0004\t0.3070\t0.5255\t0.1697\t0.1579\t0.1371\t0.1424\t0.1392\t0.1767\t0.1760\t0.1771\t0.1600\t0.1522\t0.1431\t0.1600\t0.2444\t0.1260\t0.1149\t0.2155\t0.1434\t0.1285\t0.1229\t0.1295\t0.1611\t0.1687\t0.1751\t0.1597\t0.1972\t0.1448\t0.1322\t0.1645\t0.2411\t0.1771\t0.1750\t0.1915\t3.0695\t0.1825\t0.2433\t0.2926\t2.8602\t0.2809\t0.2067\t0.2570\t2.8684\t0.2715\t0.2121\t0.2630\t2.8582\t0.2028\t0.2102\t0.2220\t2.8560\t0.1934\t0.2147\t0.2731\t2.8671\t0.2042\t0.2443\t0.2492\t0.2759\t0.2656\t0.2674\t0.3110\t4063.17\t20.58\t21.76\t21.27\t0.00\t0.00\t0.00\t0.00\t\r\n",
            "\t2/6/2021 6:27 PM\t0\t0.0694\t-0.0005\t0.3038\t0.5024\t0.1696\t0.1594\t0.1359\t0.1433\t0.1392\t0.1787\t0.1753\t0.1766\t0.1589\t0.1525\t0.1424\t0.1582\t0.2440\t0.1254\t0.1151\t0.2122\t0.1445\t0.1280\t0.1216\t0.1302\t0.1605\t0.1678\t0.1747\t0.1613\t0.1983\t0.1453\t0.1316\t0.1651\t0.2407\t0.1809\t0.1726\t0.1910\t3.0696\t0.1825\t0.2443\t0.2959\t2.8603\t0.2783\t0.2067\t0.2556\t2.8684\t0.2710\t0.2126\t0.2623\t2.8582\t0.2055\t0.2067\t0.2208\t2.8561\t0.1930\t0.2145\t0.2705\t2.8671\t0.2057\t0.2475\t0.2551\t0.2780\t0.2689\t0.2704\t0.3132\t4063.17\t20.65\t21.76\t21.27\t0.00\t0.00\t0.00\t0.00\t\r\n",
            "\t2/6/2021 6:34 PM\t0\t0.0644\t-0.0004\t0.2996\t0.4854\t0.1703\t0.1590\t0.1383\t0.1436\t0.1376\t0.1789\t0.1770\t0.1780\t0.1596\t0.1546\t0.1422\t0.1574\t0.2458\t0.1274\t0.1164\t0.1984\t0.1453\t0.1282\t0.1239\t0.1320\t0.1602\t0.1673\t0.1740\t0.1624\t0.1991\t0.1430\t0.1342\t0.1640\t0.2403\t0.1825\t0.1659\t0.1885\t3.0695\t0.1811\t0.2414\t0.2949\t2.8603\t0.2785\t0.2060\t0.2593\t2.8685\t0.2720\t0.2106\t0.2606\t2.8581\t0.2014\t0.2086\t0.2216\t2.8560\t0.1911\t0.2097\t0.2688\t2.8671\t0.2060\t0.2452\t0.2517\t0.2768\t0.2676\t0.2653\t0.3116\t4063.17\t20.65\t21.82\t21.27\t0.00\t0.00\t0.00\t0.00\t\r\n",
            "\t2/6/2021 6:41 PM\t0\t0.0636\t-0.0005\t0.3012\t0.4761\t0.1691\t0.1570\t0.1380\t0.1440\t0.1386\t0.1784\t0.1751\t0.1795\t0.1603\t0.1504\t0.1447\t0.1589\t0.2443\t0.1266\t0.1160\t0.2107\t0.1457\t0.1275\t0.1240\t0.1303\t0.1604\t0.1690\t0.1744\t0.1598\t0.1977\t0.1443\t0.1323\t0.1639\t0.2378\t0.1831\t0.1704\t0.1895\t3.0696\t0.1830\t0.2418\t0.2918\t2.8602\t0.2823\t0.2035\t0.2570\t2.8684\t0.2670\t0.2087\t0.2617\t2.8582\t0.2026\t0.2116\t0.2202\t2.8560\t0.1915\t0.2119\t0.2670\t2.8671\t0.2033\t0.2452\t0.2537\t0.2779\t0.2661\t0.2655\t0.3100\t4063.17\t20.65\t21.82\t21.33\t0.00\t0.00\t0.00\t0.00\t\r\n",
            "\t2/6/2021 6:48 PM\t0\t0.0710\t-0.0005\t0.2977\t0.4675\t0.1705\t0.1572\t0.1378\t0.1431\t0.1375\t0.1775\t0.1738\t0.1787\t0.1586\t0.1522\t0.1423\t0.1605\t0.2458\t0.1255\t0.1156\t0.2138\t0.1428\t0.1284\t0.1242\t0.1309\t0.1612\t0.1693\t0.1751\t0.1603\t0.1992\t0.1428\t0.1344\t0.1618\t0.2390\t0.1788\t0.1706\t0.1873\t3.0695\t0.1829\t0.2428\t0.2931\t2.8603\t0.2797\t0.2053\t0.2577\t2.8685\t0.2698\t0.2116\t0.2585\t2.8582\t0.2022\t0.2081\t0.2211\t2.8561\t0.1901\t0.2121\t0.2688\t2.8670\t0.2053\t0.2456\t0.2517\t0.2771\t0.2647\t0.2675\t0.3110\t4063.17\t20.58\t21.76\t21.27\t0.00\t0.00\t0.00\t0.00\t\r\n"
          ],
          "name": "stdout"
        }
      ]
    },
    {
      "cell_type": "code",
      "metadata": {
        "id": "aG_YO2mWTpXu"
      },
      "source": [
        "filename = 'drive/MyDrive/ScanningData_NaturalAging.txt'\n",
        "with open(filename) as f:\n",
        "  rows = f.readlines()\n",
        "  cols = [i for i in range(len(rows[len(rows) - 1].split()))] #this reads the length of the last line and uses that as the number of columns so you don't have to count the number\n",
        "  data = pd.read_csv(filename, names=cols, sep=\"\\t\", header=None, engine='python')\n",
        "  data[1] = pd.to_datetime(data[1])\n",
        "  data.set_index(1, inplace=True)\n",
        "data = data[data.iloc[:, 10:60].gt(0).all(axis=1)]"
      ],
      "execution_count": 11,
      "outputs": []
    },
    {
      "cell_type": "code",
      "metadata": {
        "id": "dksPTPqjhxRL"
      },
      "source": [
        "def funcC(x, a, b, c):\n",
        "    return a * np.exp(-b * x) + c\n",
        "def func(x, a, b):\n",
        "    return a * np.exp(-b * x)\n",
        "def lin_func(x, a, b):\n",
        "    return a + b * x\n",
        "def pol2(x, a, b, c):\n",
        "  return (a*x**2) + b*x + c"
      ],
      "execution_count": 12,
      "outputs": []
    },
    {
      "cell_type": "markdown",
      "metadata": {
        "id": "z7EVa9BKD8R0"
      },
      "source": [
        "#Ana"
      ]
    },
    {
      "cell_type": "code",
      "metadata": {
        "id": "mUXc0NCENoia"
      },
      "source": [
        "mask = (data[68]>20) & (data[68]<22) & (data[2]==1) #a mask to select reasonable temperatures with valid lines\n",
        "data_ = data[mask]"
      ],
      "execution_count": 6,
      "outputs": []
    },
    {
      "cell_type": "code",
      "metadata": {
        "colab": {
          "base_uri": "https://localhost:8080/",
          "height": 181
        },
        "id": "KFacySXKDfbF",
        "outputId": "4e3860fb-f35e-4031-fe40-dcd700f7c3bd"
      },
      "source": [
        "plt.plot(data_calib_source[68], data_calib_source[13], '.')\n",
        "plt.ylim(2.2, 2.0)"
      ],
      "execution_count": 7,
      "outputs": [
        {
          "output_type": "error",
          "ename": "NameError",
          "evalue": "ignored",
          "traceback": [
            "\u001b[0;31m---------------------------------------------------------------------------\u001b[0m",
            "\u001b[0;31mNameError\u001b[0m                                 Traceback (most recent call last)",
            "\u001b[0;32m<ipython-input-7-eeca2c106163>\u001b[0m in \u001b[0;36m<module>\u001b[0;34m()\u001b[0m\n\u001b[0;32m----> 1\u001b[0;31m \u001b[0mplt\u001b[0m\u001b[0;34m.\u001b[0m\u001b[0mplot\u001b[0m\u001b[0;34m(\u001b[0m\u001b[0mdata_calib_source\u001b[0m\u001b[0;34m[\u001b[0m\u001b[0;36m68\u001b[0m\u001b[0;34m]\u001b[0m\u001b[0;34m,\u001b[0m \u001b[0mdata_calib_source\u001b[0m\u001b[0;34m[\u001b[0m\u001b[0;36m13\u001b[0m\u001b[0;34m]\u001b[0m\u001b[0;34m,\u001b[0m \u001b[0;34m'.'\u001b[0m\u001b[0;34m)\u001b[0m\u001b[0;34m\u001b[0m\u001b[0;34m\u001b[0m\u001b[0m\n\u001b[0m\u001b[1;32m      2\u001b[0m \u001b[0mplt\u001b[0m\u001b[0;34m.\u001b[0m\u001b[0mylim\u001b[0m\u001b[0;34m(\u001b[0m\u001b[0;36m2.2\u001b[0m\u001b[0;34m,\u001b[0m \u001b[0;36m2.0\u001b[0m\u001b[0;34m)\u001b[0m\u001b[0;34m\u001b[0m\u001b[0;34m\u001b[0m\u001b[0m\n",
            "\u001b[0;31mNameError\u001b[0m: name 'data_calib_source' is not defined"
          ]
        }
      ]
    },
    {
      "cell_type": "code",
      "metadata": {
        "id": "GiUmj0EZrKvJ"
      },
      "source": [
        "data_ = data_.resample(\"D\").mean()\n",
        "data_ = data_.dropna(subset=[11, 12])"
      ],
      "execution_count": null,
      "outputs": []
    },
    {
      "cell_type": "code",
      "metadata": {
        "id": "A0IeCRrHtfwc"
      },
      "source": [
        "pol1 = poly.polyfit(X, y, 1)\n",
        "expo = poly.polyfit(X, np.log(y), 1, w=np.sqrt(y))\n",
        "#ffit = poly.polyval(X, pol1)\n"
      ],
      "execution_count": null,
      "outputs": []
    },
    {
      "cell_type": "code",
      "metadata": {
        "id": "NxHQOJJut9Oe"
      },
      "source": [
        "plt.plot(X,y, 'ro', markersize=1.0)\n",
        "plt.plot(X, poly.polyval(X, pol1))\n",
        "plt.figure()\n",
        "plt.plot(X, poly.polyval(X, expo))"
      ],
      "execution_count": null,
      "outputs": []
    },
    {
      "cell_type": "code",
      "metadata": {
        "id": "cKN-SvaSfaTj"
      },
      "source": [
        "scipy.optimize.curve_fit(lambda t,a,b: a+b*np.log(t),  X,  y, p0=(1, 0.001))"
      ],
      "execution_count": null,
      "outputs": []
    },
    {
      "cell_type": "code",
      "metadata": {
        "id": "mMFCZQvY1rv3"
      },
      "source": [
        "def temp_graphs(data, temp_target, source, averaging, plotting_just_the_mean):\r\n",
        "  \"\"\"This function takes in the dataframe, the temperature channel you want to use, a 0/1 for the source channel value, and whether you want averaging over a single index/you just want to plot the mean\r\n",
        "  It then plots temperature vs current\"\"\" \r\n",
        "\r\n",
        "  tempSensor_dict = {68:[9, 10, 11, 12], 69:[12, 13, 14, 15], 70:[16, 17, 18, 19]} #The temperature channels and their respective channels\r\n",
        "  mask = (data[2]==source) & (data[temp_target] > 20) & (data[temp_target] < 22)#pick only those with stuff matching the source, and temperatures that are relatively reasonable\r\n",
        "  data = data[mask]\r\n",
        "\r\n",
        "  chanList = tempSensor_dict[temp_target] #This gets the list of 4 channels that you want\r\n",
        "  \r\n",
        "  chan1 = list(data[chanList[0]]) #The channel data in list form\r\n",
        "  norm1 = data[chanList[0]].mean() #The normalization constant for the first channel\r\n",
        "\r\n",
        "  chan2 = list(data[chanList[1]]) #same format as above\r\n",
        "  norm2 = data[chanList[1]].mean()\r\n",
        "  \r\n",
        "  chan3 = list(data[chanList[2]]) #same\r\n",
        "  norm3 = data[chanList[2]].mean()\r\n",
        "\r\n",
        "  chan4 = list(data[chanList[3]]) #same\r\n",
        "  norm4 = data[chanList[3]].mean()\r\n",
        "\r\n",
        "  temp = list(data[temp_target]) #the temperature data in list form\r\n",
        "  tempnorm = data[temp_target].mean() #The normalization constant for the temperature channel\r\n",
        "\r\n",
        "  x = []\r\n",
        "  y = []\r\n",
        "  fig, ax = plt.subplots(figsize=(12, 4))\r\n",
        "\r\n",
        "  if plotting_just_the_mean: #If you're just plotting the mean for all 4 channel distributions (if the last parameter == true) then it hits this\r\n",
        "    mask = (data[2]==source) & (data[68] > 20) & (data[68] < 22) & (data[69] > 20) & (data[69] < 22) & (data[70] > 20) & (data[70] < 22)\r\n",
        "    data = data[mask]\r\n",
        "    x.append(data[68].mean()) #first temp data\r\n",
        "    y.append((data[12].mean() + data[11].mean() + data[10].mean() + data[9].mean())/4) #take the mean of the means\r\n",
        "\r\n",
        "    x.append(data[69].mean()) #seconds temp data\r\n",
        "    y.append((data[15].mean() + data[14].mean() + data[13].mean() + data[12].mean())/4) #same\r\n",
        "\r\n",
        "    x.append(data[70].mean()) #third temp data\r\n",
        "    y.append((data[19].mean() + data[18].mean() + data[17].mean() + data[16].mean())/4)\r\n",
        "\r\n",
        "    popt, pcov = curve_fit(pol2, x, y) #a 2nd order polynomial worked really well here, so that's what will be used\r\n",
        "    print(\"Fitted Line: y =\", popt[2],\"* x^2 +\",popt[1],\"*x +\",popt[0]) #print the equation\r\n",
        "    ax.scatter(x,y, label = \"Average Current Over Channels\") #plot the data points\r\n",
        "    yerror = math.sqrt(max(statistics.stdev(chan1), statistics.stdev(chan2), statistics.stdev(chan3), statistics.stdev(chan4))) #the error bars are consistent of the largest standard deviation of all of them\r\n",
        "    ax.errorbar(x,y,yerr=yerror, ls='none')#put the errorbars down without lines connecting them\r\n",
        "\r\n",
        "    ax.set_xlabel(\"Temperature\")\r\n",
        "    ax.set_ylabel(\"Current\")\r\n",
        "    title = \"Average Temperature VS Average Current for Temperature Sensors\"\r\n",
        "    if source == 1:\r\n",
        "      title += \" For Channels with the Source\" #Changes the title depending on whether it was with or without the source\r\n",
        "    else:\r\n",
        "      title += \" For Channelse without the Source\"\r\n",
        "    ax.set_title(title)\r\n",
        "    \r\n",
        "    func_points = []\r\n",
        "    plot_x = np.arange(min(x), max(x) + 0.1, 0.1) #Have the function go over a lot of points, as it makes it more smooth over the range\r\n",
        "    for i in plot_x:\r\n",
        "      func_points.append(pol2(i,*popt))\r\n",
        "    ax.plot(plot_x, func_points, 'r-', label = \"Fitted Line\")\r\n",
        "    \r\n",
        "    ax.set_xlim(left=20,right=22)\r\n",
        "    plt.grid()\r\n",
        "    plt.legend()\r\n",
        "    plt.show()\r\n",
        "\r\n",
        "    return #stop the function\r\n",
        "\r\n",
        "\r\n",
        "  for i in range(len(chan1)): #takes the average of the four for each row\r\n",
        "    if temp[i] <= 20 or temp[i] >= 22:\r\n",
        "      continue\r\n",
        "\r\n",
        "    if averaging:\r\n",
        "      avgcurrent = (chan1[i]/norm1 + chan2[i]/norm2 + chan3[i]/norm3 + chan4[i]/norm4)/4 #average the norms of all the values\r\n",
        "      if avgcurrent < 0.8 or avgcurrent > 1.2:\r\n",
        "        continue #remove values that are out of these bounds\r\n",
        "      x.append(temp[i])\r\n",
        "      y.append(avgcurrent)\r\n",
        "    else: #This is without averaging over all the entries of a given index\r\n",
        "      normList = []\r\n",
        "      normList.append(chan1[i]/norm1)\r\n",
        "      normList.append(chan2[i]/norm2)\r\n",
        "      normList.append(chan3[i]/norm3)\r\n",
        "      normList.append(chan4[i]/norm4)\r\n",
        "      \r\n",
        "      for j in normList:\r\n",
        "        if j > 0.8 and j < 1.2: #same bound thing from before\r\n",
        "          x.append(temp[i])\r\n",
        "          y.append(j)\r\n",
        "\r\n",
        "  popt, pcov = curve_fit(lin_func, x, y)\r\n",
        "  print(\"Fitted Line: y =\", popt[1],\"* x +\",popt[0]) #linear fit for the data (I think a linear fit works better here over a quadratic one)\r\n",
        "  \r\n",
        "  ax.scatter(x,y, label = \"Average Current Over Channels\")\r\n",
        "\r\n",
        "  func_points = []\r\n",
        "  for i in x:\r\n",
        "    func_points.append(lin_func(i, *popt)) #run the fitted function on all the data points\r\n",
        "\r\n",
        "  ax.plot(x, func_points, 'r-', label = \"Fitted Line\")\r\n",
        "  ax.set_xlabel(\"Temperature\")\r\n",
        "  ax.set_ylabel(\"Current\")\r\n",
        "  chart_title = \"Current VS Temperature for Channels \" + str(tempSensor_dict[temp_target]).replace(\"]\",\"\").replace(\"[\",\"\")\r\n",
        "  if source == 1:\r\n",
        "    chart_title += \" That Contain the Source\"\r\n",
        "  else:\r\n",
        "    chart_title += \" That Does Not Contain the Source\"\r\n",
        "  ax.set_title(chart_title)\r\n",
        "\r\n",
        "  ax.set_xlim(left=20, right=22)\r\n",
        "  plt.grid()\r\n",
        "  plt.legend()\r\n",
        "  plt.show()\r\n",
        "\r\n",
        "\r\n",
        "print(\"-------------------- WITHOUT AVERAGING OVER ALL CHANNELS FOR A GIVEN INDEX --------------------\")\r\n",
        "print(\"-------------------- WITH SOURCE --------------------\")\r\n",
        "temp_graphs(data_calib_source,68,1, False, False)\r\n",
        "temp_graphs(data_calib_source,69,1, False, False)\r\n",
        "temp_graphs(data_calib_source,70,1, False, False)\r\n",
        "print(\"-------------------- WITHOUT SOURCE --------------------\")\r\n",
        "temp_graphs(data_calib_source,68,0, False, False)\r\n",
        "temp_graphs(data_calib_source,69,0, False, False)\r\n",
        "temp_graphs(data_calib_source,70,0, False, False)\r\n",
        "print(\"-------------------- WITH AVERAGING OVER ALL CHANNELS FOR A GIVEN INDEX --------------------\")\r\n",
        "print(\"-------------------- WITH SOURCE --------------------\")\r\n",
        "temp_graphs(data_calib_source,68,1, True, False)\r\n",
        "temp_graphs(data_calib_source,69,1, True, False)\r\n",
        "temp_graphs(data_calib_source,70,1, True, False)\r\n",
        "print(\"-------------------- WITHOUT SOURCE --------------------\")\r\n",
        "temp_graphs(data_calib_source, 68,0, True, False)\r\n",
        "temp_graphs(data_calib_source, 69,0, True, False)\r\n",
        "temp_graphs(data_calib_source, 70,0, True, False)\r\n",
        "\r\n",
        "print(\"-------------------- CHART WITH JUST AVERAGE DATA --------------------\")\r\n",
        "temp_graphs(data_calib_source,68,1, True, True)\r\n",
        "temp_graphs(data_calib_source, 70,0, True, True)\r\n"
      ],
      "execution_count": null,
      "outputs": []
    },
    {
      "cell_type": "code",
      "metadata": {
        "id": "39PWS2CVEAMG"
      },
      "source": [
        "def oneChanAtATime(tempSensorChan, source):\r\n",
        "  tempSensor_dict = {68:[9, 10, 11, 12], 69:[12, 13, 14, 15], 70:[16, 17, 18, 19]} #The temperature channels and their respective channels\r\n",
        "  for i in tempSensor_dict[tempSensorChan]:\r\n",
        "    fig, ax = plt.subplots(figsize=(12,4))\r\n",
        "    mask = (data[2]==source) & (data[tempSensorChan] > 20) & (data[tempSensorChan] < 22) & (data[i] > 0) #pick only those with stuff matching the source, and temperatures that are relatively reasonable\r\n",
        "    data_ = data[mask]\r\n",
        "    pedestal = 0\r\n",
        "    if source == 1:\r\n",
        "      pedestal = data[i][data[2]==0].mean()\r\n",
        "      current = (data_[i] - pedestal)\r\n",
        "    else:\r\n",
        "      current = data_[i]\r\n",
        "    current /= current.mean()\r\n",
        "    x = data_[tempSensorChan]\r\n",
        "\r\n",
        "    ax.plot(x, current, 'k.', label=\"SiPM Current\")\r\n",
        "\r\n",
        "    popt, pcov = curve_fit(lin_func, x, current)\r\n",
        "    print('Chan: '+str(i)+', pedestal: '+str(pedestal))\r\n",
        "    print(popt)\r\n",
        "    ax.plot(x, lin_func(x, *popt), 'r-', label=\"Fitted Line\")\r\n",
        "\r\n",
        "    ax.set_xlabel(\"Temperature\")\r\n",
        "    ax.set_ylabel(\"Current\")\r\n",
        "    ax.set_title(\"Temperature VS Current for Channel \" + str(i) + (\" Using Only Channels With the Source\" if (source == 1) else \" Using Only Channels Without the Source\"))\r\n",
        "\r\n",
        "    plt.grid()\r\n",
        "    plt.show()\r\n",
        "\r\n",
        "oneChanAtATime(68,1)\r\n",
        "oneChanAtATime(69,1)\r\n",
        "oneChanAtATime(70,1)"
      ],
      "execution_count": null,
      "outputs": []
    },
    {
      "cell_type": "code",
      "metadata": {
        "id": "BQq_58HJnsEC"
      },
      "source": [
        "for chan in range(15, 50):\n",
        "\n",
        "  bad_channels = [19, 39, 43, 47, 48, 49, 50, 51, 55, 56, 57, 58, 59]\n",
        "  if chan in bad_channels:\n",
        "      continue\n",
        "\n",
        "  fig, ax = plt.subplots(figsize=(12, 4))\n",
        "  mask = (data[chan]>0.2) & (data[2]==1)\n",
        "  data_ = data[mask]\n",
        "  pedestal = data[chan][data[2]==0].mean()\n",
        "  X = (data_.index -  data_.index.to_numpy()[0]).astype('timedelta64[D]')/365\n",
        "  y = (data_[chan] - pedestal)\n",
        "  y = y/y[:100].mean()\n",
        "  y = y*np.exp(X*0.023)\n",
        "  ax.plot(data_.index, y, 'k.', label=\"SiPM current\")\n",
        "#  ax.plot(X, y, 'k.', label=\"SiPM current\")\n",
        "\n",
        "  popt, pcov = curve_fit(func, X, y)\n",
        "  print('Chan: '+str(chan)+', pedestal: '+str(pedestal))\n",
        "  print(popt)\n",
        "  ax.plot(data_.index, func(X, *popt), 'r-', label=\"Fitted Curve\")\n",
        "#  ax.plot(X, func(X, *popt), 'r-', label=\"Fitted Curve\")\n",
        "  ax.set_ylim(0.5, 1.1)\n",
        "  date_form = DateFormatter(\"%m/%d/%y\")\n",
        "  ax.xaxis.set_major_formatter(date_form)\n",
        "\n",
        "  plt.grid()\n",
        "  plt.legend()\n",
        "  plt.show()"
      ],
      "execution_count": null,
      "outputs": []
    },
    {
      "cell_type": "markdown",
      "metadata": {
        "id": "lb8F_CIfCeNo"
      },
      "source": [
        "#Dark current vs temp parametrization"
      ]
    },
    {
      "cell_type": "code",
      "metadata": {
        "id": "9pSeDG7_B1zq"
      },
      "source": [
        "   tempSensor_dict = {68:[9, 10, 11, 12], 69:[13, 14, 15], 70:[16, 17, 18, 19]} #The temperature channels and their respective channels"
      ],
      "execution_count": 13,
      "outputs": []
    },
    {
      "cell_type": "code",
      "metadata": {
        "id": "ICkSR8Jl4PNf"
      },
      "source": [
        "import warnings\n",
        "import seaborn as sns\n",
        "plt.style.use('seaborn-whitegrid')\n",
        "plt.rcParams[\"grid.linestyle\"] = (5,15)\n",
        "plt.rcParams[\"grid.linewidth\"] = 0.5\n",
        "data_calib_source = data[(data.index>datetime(2021, 2, 1)) & (data.index<datetime(2021, 3, 1))]"
      ],
      "execution_count": 14,
      "outputs": []
    },
    {
      "cell_type": "code",
      "metadata": {
        "id": "AX7uwpsNM7U7"
      },
      "source": [
        "signalSlopes = []\r\n",
        "DCurrentSlopes = []\r\n",
        "chanList = []\r\n",
        "chanSlopes = {}\r\n",
        "def reset_slopes(): #just a function that resets everything since I'm using global variables\r\n",
        "  global signalSlopes, DCurrentSlopes, chanList\r\n",
        "  signalSlopes = []\r\n",
        "  DCurrentSlopes = []\r\n",
        "  chanList = []\r\n",
        "  chanSlopes = {}"
      ],
      "execution_count": 15,
      "outputs": []
    },
    {
      "cell_type": "code",
      "metadata": {
        "id": "8iPTpRCZmrJ1"
      },
      "source": [
        "def monthlyChannels(date1, date2):\r\n",
        "  global signalSlopes, DCurrentSlopes, chanList, chanSlopes\r\n",
        "  \"\"\"takes in the temperature sensor channel, the lower date bound and upper date bound\r\n",
        "  dates should be in [yyyy,mm,dd] format\"\"\"\r\n",
        "\r\n",
        "  warnings.filterwarnings(\"ignore\")\r\n",
        "\r\n",
        "  if type(date1) != list and type(date2) != list and len(date1) != 3 and len(date2) != 3:\r\n",
        "    raise TypeError(\"Look at the format of your dates!\")\r\n",
        "  date_limited = data[(data.index>datetime(*date1)) & (data.index<datetime(*date2)) & (data[68] > 20) & (data[68] < 22)]\r\n",
        "\r\n",
        "  if len(date_limited[68]) < 10:\r\n",
        "    return\r\n",
        "  \r\n",
        "\r\n",
        "  fig, ax = plt.subplots(1, 50, figsize=(12*50,15))\r\n",
        "  plt.figtext(0, 0, datetime(*date1).strftime('%b') + \" \" + str(date1[0]), fontsize=14)\r\n",
        "\r\n",
        "  for i in range(15,65):\r\n",
        "    col = i - 15\r\n",
        "\r\n",
        "    ########################################## WITH SOURCE ###############################\r\n",
        "    mask = (date_limited[i] > 0) & (date_limited[2] == 1)\r\n",
        "    data_ = date_limited[mask]\r\n",
        "\r\n",
        "    pedestal = date_limited[date_limited[2]==0][i].mean()\r\n",
        "    x = data_[68]\r\n",
        "    y = (data_[i] - pedestal) if not np.isnan(pedestal) else data_[i]\r\n",
        "    y = y/y.mean()\r\n",
        "\r\n",
        "    # print(x)\r\n",
        "    # print(pedestal)\r\n",
        "    # print(y)\r\n",
        "    \r\n",
        "    chanList.append(i)\r\n",
        "\r\n",
        "    sns.regplot(x=x, y=y, color = 'k', ax=ax[col], fit_reg=None, x_bins = 40, label = \"SiPM %d Signal\" % i)\r\n",
        "\r\n",
        "    params, pcov = curve_fit(lin_func, x, y)\r\n",
        "    signalSlopes.append(params[1])\r\n",
        "    try:\r\n",
        "      chanSlopes[i].append((datetime(*date1), params[1]))\r\n",
        "    except:\r\n",
        "      chanSlopes[i] = [(datetime(*date1), params[1])]\r\n",
        "\r\n",
        "    ax[col].plot(x, lin_func(x,*params), 'r-', label = \"Linear Fit: \" + str(params[1].round(5)) + \"x + \" + str(params[0].round(5)))\r\n",
        "\r\n",
        "    ax[col].set_title(\"Temperature VS Signal for Channel \" + str(i))\r\n",
        "    ax[col].set_xlabel(\"Temperature\")\r\n",
        "    ax[col].set_ylabel(\"Normalized Signal\")\r\n",
        "    ax[col].set_ylim(0.9, 1.1)\r\n",
        "    ax[col].legend()\r\n",
        "\r\n",
        "    \r\n",
        "  fig.tight_layout()\r\n",
        "    #################################### WITHOUT SOURCE ################################\r\n",
        "    # if np.isnan(pedestal):\r\n",
        "    #   ax[1].set_title(\"No data points w/o the source\")\r\n",
        "    #   DCurrentSlopes.append(None)\r\n",
        "    #   continue\r\n",
        "\r\n",
        "    # mask = (date_limited[68] >= 20) & (date_limited[68] <= 22) & (date_limited[i] > 0) & (date_limited[2] == 0)\r\n",
        "    # data_ = date_limited[mask]\r\n",
        "\r\n",
        "    # x = data_[68]\r\n",
        "    # y = data_[i]\r\n",
        "    # y = y/y.mean()\r\n",
        "\r\n",
        "    # sns.regplot(x=x, y=y, color = 'k', ax=ax[1], fit_reg=None, x_bins = 40, label = \"SiPM %d Dark Current\" % i)\r\n",
        "\r\n",
        "    # params, pcov = curve_fit(lin_func, x, y)\r\n",
        "    # DCurrentSlopes.append(params[1])\r\n",
        "\r\n",
        "    # ax[1].plot(x, lin_func(x,*params), 'r-', label = \"Linear Fit: \" + str(params[1].round(5)) + \"x + \" + str(params[0].round(5)))\r\n",
        "\r\n",
        "    # ax[1].set_title(\"Temperature VS Dark Current for Channel \" + str(i))\r\n",
        "    # ax[1].set_xlabel(\"Temperature\")\r\n",
        "    # ax[1].set_ylabel(\"Normalized Dark Current\")\r\n",
        "    # ax[1].legend()\r\n",
        "\r\n",
        "# monthlyChannels([2021,2,1], [2021,3,1])\r\n",
        "# monthlyChannels([2020,8,1], [2020,9,1])\r\n",
        "reset_slopes()\r\n",
        "\r\n",
        "for i in range(3, 12):\r\n",
        "  monthlyChannels([2020, i, 1], [2020, i + 1, 1])\r\n",
        "\r\n",
        "monthlyChannels([2020, 12,1], [2021,1,1]) \r\n",
        "#for some reason past a certain point the line no longer draws, I have no clue why\r\n",
        "\r\n",
        "for i in range(1, 3):\r\n",
        "  monthlyChannels([2021,i,1], [2021, i + 1, 1])"
      ],
      "execution_count": null,
      "outputs": []
    },
    {
      "cell_type": "code",
      "metadata": {
        "id": "1qUt2zuwNvTx"
      },
      "source": [
        "fig, ax = plt.subplots(1, 2, figsize=(24,8))\r\n",
        "\r\n",
        "plot1x = []\r\n",
        "plot1y = []\r\n",
        "\r\n",
        "plot2x = []\r\n",
        "plot2y = []\r\n",
        "\r\n",
        "ax[0].set_title(\"Signal Fit Slope VS Channel\")\r\n",
        "ax[0].set_xlabel(\"Channel #\")\r\n",
        "ax[0].set_ylabel(\"Signal Fit Slope\")\r\n",
        "\r\n",
        "for i in range(len(chanList)):\r\n",
        "  if abs(signalSlopes[i]) > 0.1:\r\n",
        "    continue4\r\n",
        "\r\n",
        "    \r\n",
        "  plot1x.append(chanList[i])\r\n",
        "  plot1y.append(signalSlopes[i])\r\n",
        "\r\n",
        "for i in chanSlopes.keys():\r\n",
        "  val = chanSlopes[i]\r\n",
        "  for j in range(len(val)):\r\n",
        "      plot2x.append(val[j][0].strftime('%b %Y'))\r\n",
        "      plot2y.append(val[j][1])\r\n",
        "\r\n",
        "  # if DCurrentSlopes[i] == None:\r\n",
        "  #   continue\r\n",
        "  # ax[0][1].plot(chanList[i], DCurrentSlopes[i], 'bo')\r\n",
        "\r\n",
        "  # ax[1][0].plot(DCurrentSlopes[i], signalSlopes[i], 'bo')\r\n",
        "\r\n",
        "  # if signalSlopes[i] <= 0:\r\n",
        "  #   plot4x.append(DCurrentSlopes[i])\r\n",
        "  #   plot4y.append(signalSlopes[i])\r\n",
        "  \r\n",
        "\r\n",
        "sns.regplot(x=plot1x, y=plot1y, ax=ax[0], x_bins=80, fit_reg = None, label = \"Signal Slopes\")\r\n",
        "params, pcov = curve_fit(lin_func, plot1x, plot1y)\r\n",
        "ax[0].plot(plot1x, lin_func(np.array(plot1x), *params), 'r-')\r\n",
        "\r\n",
        "ax[1].scatter(plot2x, plot2y)\r\n",
        "# params, pcov = curve_fit(lin_func,plot2x,plot2y)\r\n",
        "# ax[1].plot(plot2x, lin_func(np.array(plot2x), *params), 'r-')\r\n",
        "\r\n",
        "# sns.regplot(x=plot4x, y=plot4y, ax=ax[1][1], x_bins=80, fit_reg = None)\r\n",
        "# params, pcov = curve_fit(lin_func, plot4x, plot4y)\r\n",
        "# ax[1][1].plot(plot4x, lin_func(np.array(plot4x), *params), 'r-')\r\n",
        "\r\n",
        "fig.tight_layout()\r\n"
      ],
      "execution_count": null,
      "outputs": []
    },
    {
      "cell_type": "code",
      "metadata": {
        "id": "ioEu8CwEEoU4"
      },
      "source": [
        "for i in chanSlopes.keys():\r\n",
        "  plot2x = []\r\n",
        "  plot2y = []\r\n",
        "  fit2x = []\r\n",
        "\r\n",
        "  fig, ax = plt.subplots(1, 1, figsize=(12,4))\r\n",
        "  ax.set_title(\"Channel \" + str(i) + \" Temp Slope VS Time w/o abs(val) > 0.1\")\r\n",
        "  ax.set_xlabel(\"Month\")\r\n",
        "  ax.set_ylabel(\"Temperature Slope\")\r\n",
        "  val = chanSlopes[i]\r\n",
        "  \r\n",
        "  for j in range(len(val)):\r\n",
        "    if abs(val[j][1]) > 0.1:\r\n",
        "      continue\r\n",
        "    if j == 0:\r\n",
        "      fit2x.append((val[j][0] - val[0][0]).total_seconds()/86400) #difference in seconds divided by seconds in a day\r\n",
        "    else:\r\n",
        "      fit2x.append((val[j][0] - val[0][0]).total_seconds()/86400)\r\n",
        "    plot2x.append(val[j][0].strftime('%b %Y'))\r\n",
        "    plot2y.append(val[j][1])\r\n",
        "  ax.scatter(plot2x, plot2y, label = \"Data Points\")\r\n",
        "  # print(fit2x)\r\n",
        "  params, pcov = curve_fit(lin_func, fit2x, plot2y)\r\n",
        "  ax.plot(plot2x,lin_func(np.array(fit2x), *params), 'r-', label=\"Fitted line: \" + str(round(params[1],7)) + \"x + \" + str(round(params[0],4)))\r\n",
        "  ax.legend()"
      ],
      "execution_count": null,
      "outputs": []
    },
    {
      "cell_type": "code",
      "metadata": {
        "id": "0L1pSe_4_bX4"
      },
      "source": [
        "for chan in range(15, 65):\n",
        "\n",
        "  bad_channels = [19, 39, 43, 47, 48, 49, 50, 51, 55, 56, 57, 58, 59]\n",
        "  if chan in bad_channels:\n",
        "      continue\n",
        "\n",
        "# Signal\n",
        "  fig, ax = plt.subplots(1, 2, figsize=(20, 4))\n",
        "  pedestal = data_calib_source[chan][data_calib_source[2]==0].mean()\n",
        "  X = data_calib_source[68][data_calib_source[2]==1]\n",
        "  y = (data_calib_source[chan][data_calib_source[2]==1] - pedestal)\n",
        "  y = y/y[:100].mean()\n",
        "  ax[0].plot(X, y, 'b.', markersize=0.5, label=\"SiPM %d current\" % chan)\n",
        "  sns.regplot(x=X, y=y, color='k', x_bins=40, fit_reg=None, ax=ax[0])\n",
        "  popt, pcov = curve_fit(lin_func, X, y)\n",
        "  ax[0].plot(X, lin_func(X, *popt), 'r-', label=\"Fitted Curve\")\n",
        "  ax[0].legend()\n",
        "  ax[0].set_ylim(0.9, 1.1)\n",
        "\n",
        "# Dark current\n",
        "  X = data_calib_source[68][data_calib_source[2]==0]\n",
        "  y = (data_calib_source[chan][data_calib_source[2]==0])\n",
        "  ax[1].plot(X, y, 'b.', markersize=0.5, label=\"SiPM %d current\" % chan)\n",
        "  sns.regplot(x=X, y=y, color='k', x_bins=40, fit_reg=None, ax=ax[1])\n",
        "  popt, pcov = curve_fit(lin_func, X, y)\n",
        "  ax[1].plot(X, lin_func(X, *popt), 'r-', label=\"Fitted Curve\")"
      ],
      "execution_count": null,
      "outputs": []
    }
  ]
}