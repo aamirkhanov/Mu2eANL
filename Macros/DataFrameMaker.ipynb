{
  "nbformat": 4,
  "nbformat_minor": 0,
  "metadata": {
    "colab": {
      "name": "DataFrameMaker.ipynb",
      "provenance": [],
      "collapsed_sections": [],
      "include_colab_link": true
    },
    "kernelspec": {
      "name": "python3",
      "display_name": "Python 3"
    },
    "language_info": {
      "name": "python"
    }
  },
  "cells": [
    {
      "cell_type": "markdown",
      "metadata": {
        "id": "view-in-github",
        "colab_type": "text"
      },
      "source": [
        "<a href=\"https://colab.research.google.com/github/oksuzian/Mu2eANL/blob/master/Macros/DataFrameMaker.ipynb\" target=\"_parent\"><img src=\"https://colab.research.google.com/assets/colab-badge.svg\" alt=\"Open In Colab\"/></a>"
      ]
    },
    {
      "cell_type": "markdown",
      "metadata": {
        "id": "gV8ecMDtDXkE"
      },
      "source": [
        "# Init and define function"
      ]
    },
    {
      "cell_type": "code",
      "metadata": {
        "colab": {
          "base_uri": "https://localhost:8080/"
        },
        "id": "1cYjEx76DYCd",
        "outputId": "df516d5d-0d5e-4859-ad15-5304398840ad"
      },
      "source": [
        "import sys\n",
        "import matplotlib.pyplot as plt\n",
        "%pip -q install uproot3\n",
        "%pip -q install --upgrade tables\n",
        "import uproot3\n",
        "import pandas as pd\n",
        "import numpy as np\n",
        "\n",
        "CRY4 = False\n",
        "if CRY4:\n",
        "  h5file='drive/MyDrive/root_files_cry5/cry4df.h5'\n",
        "else:\n",
        "  h5file='drive/MyDrive/root_files_cry5/cry5df.h5'\n",
        "\n",
        "\n",
        "# This allows you to run on Colaboratory and load files from your Google Drive\n",
        "try:\n",
        "    from google.colab import drive\n",
        "    drive.mount(\"/content/drive\")\n",
        "    main_path = '/content/drive/MyDrive/'\n",
        "except:\n",
        "    main_path = ''\n",
        "sys.path.append(main_path)\n",
        "sys.path.append(main_path+'root_files_cry4')"
      ],
      "execution_count": 1,
      "outputs": [
        {
          "output_type": "stream",
          "name": "stdout",
          "text": [
            "\u001b[K     |████████████████████████████████| 117 kB 14.8 MB/s \n",
            "\u001b[K     |████████████████████████████████| 87 kB 5.2 MB/s \n",
            "\u001b[?25hMounted at /content/drive\n"
          ]
        }
      ]
    },
    {
      "cell_type": "code",
      "metadata": {
        "id": "FJetvMcrI-Pe"
      },
      "source": [
        "def default_flatname(branchname, fieldname, index):\n",
        "    \"\"\"This replaces the dot in the column names with underscores\"\"\"\n",
        "    out = branchname.replace(\".\", \"_\")\n",
        "    if not isinstance(branchname, str):\n",
        "        out = branchname.decode(\"utf-8\")\n",
        "    if fieldname is not None:\n",
        "        fieldname.replace(\".\", \"_\")\n",
        "        out += \"_\" + fieldname\n",
        "    if index != ():\n",
        "        out += \"[\" + \"][\".join(str(x) for x in index) + \"]\"\n",
        "    return out"
      ],
      "execution_count": 2,
      "outputs": []
    },
    {
      "cell_type": "code",
      "metadata": {
        "id": "HtOd-HS3JopR"
      },
      "source": [
        "def make_df(trkana, tag_high, lyield):\n",
        "\n",
        "  if CRY4:\n",
        "    df_eve = trkana.pandas.df(['evtinfo.', 'de', 'deent', 'dequal', 'demc', 'demcgen', 'trigbits', 'ue', 'crvsummary.*', '_*'], flatname=default_flatname, flatten=True)\n",
        "    df_crv = trkana.pandas.df(['crvinfo.*', 'crvinfomc.*', 'bestcrv*'], flatname=default_flatname, flatten=True)\n",
        "    df_crv = df_crv[df_crv.index.get_level_values('subentry') == df_crv[\"bestcrv\"]]\n",
        "    df_eve[\"deent_maxr\"] = df_eve[\"deent_d0\"]+2.0/df_eve[\"deent_om\"]\n",
        "    df_eve[\"is_triggered\"] = (df_eve[\"trigbits\"].values & 0x208) > 0\n",
        "  else: \n",
        "    df_eve = trkana.pandas.df(['evtinfo.*', 'de.*', 'deent*', 'dequal.*', 'demc.*', 'demcgen.*', 'demcpri.*', 'ue.*', 'crvsummary.*', '_*'], flatname=default_flatname, flatten=True)\n",
        "    df_crv = trkana.pandas.df(['bestcrv*'], flatname=default_flatname, flatten=True)\n",
        "    df_crv.columns = df_crv.columns.str.replace('bestcrv', 'crvinfo')\n",
        "    df_eve[\"deent_mom\"] = pow(pow(df_eve[\"deent_mom_fCoordinates_fX\"],2) + pow(df_eve[\"deent_mom_fCoordinates_fY\"],2) + pow(df_eve[\"deent_mom_fCoordinates_fZ\"],2),0.5)\n",
        "    df_eve[\"demcpri_mom\"] = pow(pow(df_eve[\"demcpri_mom_fCoordinates_fX\"],2) + pow(df_eve[\"demcpri_mom_fCoordinates_fY\"],2) + pow(df_eve[\"demcpri_mom_fCoordinates_fZ\"],2),0.5)\n",
        "\n",
        "  pd.merge(df_eve, df_crv, how=\"left\", on='entry')\n",
        "  df = df_eve.merge(df_crv, how=\"left\", on=\"entry\")\n",
        "  df.columns = df.columns.str.replace('__', '_')\n",
        "  df.columns = df.columns.str.replace('_fCoordinates_f', '')\n",
        "\n",
        "  df['is_high'] = tag_high\n",
        "  df['lyield'] = int(lyield)\n",
        "  df[\"crvinfo_dT\"] = df[\"crvinfo_timeWindowStart\"] - df[\"de_t0\"]\n",
        "  df = df.fillna(-999999)\n",
        "  return df"
      ],
      "execution_count": 11,
      "outputs": []
    },
    {
      "cell_type": "code",
      "metadata": {
        "id": "PTjQqDcMtC4c"
      },
      "source": [
        "def combine_df(files):\n",
        "    \n",
        "  df = pd.DataFrame()\n",
        "  for f in files:\n",
        "      print(\"Reading file\", f, files[f][0], files[f][1])\n",
        "      file = uproot3.open(f)\n",
        "      trkana = file[\"TrkAnaNeg\"][\"trkana\"]\n",
        "      df_ = make_df(trkana, files[f][1], files[f][0])\n",
        "      df_ = df_.filter(regex=var_str)\n",
        "      df = df.append(df_)\n",
        "  df = df.loc[:,~df.columns.duplicated()]  # delete duplicate colummns\n",
        "  return df    "
      ],
      "execution_count": 4,
      "outputs": []
    },
    {
      "cell_type": "markdown",
      "metadata": {
        "id": "Cf75-mHNKVQe"
      },
      "source": [
        "#Variables list to save in df"
      ]
    },
    {
      "cell_type": "code",
      "metadata": {
        "id": "s3aWu2ZTFVSm"
      },
      "source": [
        "var_list=[\n",
        " 'evtinfo_eventid',\n",
        " 'evtinfo_subrunid',\n",
        " 'de_status',\n",
        " 'de_pdg',\n",
        " 'de_nhits',\n",
        " 'de_t0',\n",
        " 'deent_mom',\n",
        " 'deent_d0',\n",
        " 'deent_p0',\n",
        " 'deent_z0',\n",
        " 'deent_td',\n",
        " 'dequal_TrkPID',\n",
        " 'dequal_TrkQual',\n",
        " 'demc_pdg',\n",
        " 'demcgen_pdg',\n",
        " 'demcgen_gen',\n",
        " 'demcgen_posx',\n",
        " 'demcgen_posy',\n",
        " 'demcgen_posz',\n",
        " 'demcgen_momx',\n",
        " 'demcgen_momy',\n",
        " 'demcgen_momz',\n",
        " 'demcpri_posX',\n",
        " 'demcpri_posY',\n",
        " 'demcpri_posZ',\n",
        " 'demcpri_posZ',\n",
        " 'demcpri_pdg',\n",
        " 'demcpri_mom',\n",
        " 'trigbits',\n",
        " 'ue_status',\n",
        " 'ue_nhits',\n",
        " '_totalPEs',\n",
        " '_nHitCounters',\n",
        " '_totalEnergyDeposited',\n",
        " '_x',\n",
        " '_y',\n",
        " '_z',\n",
        " '_pdgId',\n",
        " '_crvSectorNumber',\n",
        " '_crvSectorType',\n",
        " 'crvinfo__crvSectorType',\n",
        " 'crvinfo_x',\n",
        " 'crvinfo_y',\n",
        " 'crvinfo_z',\n",
        " 'crvinfo_PEs',\n",
        " 'crvinfo_timeWindowStart',\n",
        " 'crvinfo_nCoincidenceHits',\n",
        " 'crvinfomc_x',\n",
        " 'crvinfomc_y',\n",
        " 'crvinfomc_z',\n",
        " 'bestcrv',\n",
        " 'is_high',\n",
        " 'lyield',\n",
        " 'crvinfo_dT',\n",
        " 'deent_maxr',\n",
        " 'is_triggered']\n",
        "\n",
        "var_str='('\n",
        "for var in var_list:\n",
        "  var_str=var_str+var+'$|'\n",
        "var_str=var_str[:-1]+')'"
      ],
      "execution_count": 12,
      "outputs": []
    },
    {
      "cell_type": "markdown",
      "metadata": {
        "id": "O0f2Gwg3uAZD"
      },
      "source": [
        "# Save dataframe"
      ]
    },
    {
      "cell_type": "code",
      "metadata": {
        "id": "kORKjW0_Jq5J"
      },
      "source": [
        "if CRY4:\n",
        "  files_cry4 = {                  \n",
        "          'drive/MyDrive/root_files_cry4/ana.dzhadan.RecoMC.cry4v940.092020_7000_lo.root': [7000, 0],\n",
        "          'drive/MyDrive/root_files_cry4/ana.dzhadan.RecoMC.cry4v940.123020_7000_lo.root': [7000, 0],\n",
        "          'drive/MyDrive/root_files_cry4/ana.dzhadan.RecoMC.cry4v940.092020_9000_lo.root': [9000, 0],\n",
        "          'drive/MyDrive/root_files_cry4/ana.dzhadan.RecoMC.cry4v940.123020_9000_lo.root': [9000, 0],         \n",
        "          'drive/MyDrive/root_files_cry4/ana.amirkhan.RecoMC.cry4v940.092020_11000_lo.root': [11000, 0],\n",
        "          'drive/MyDrive/root_files_cry4/ana.dzhadan.RecoMC.cry4v940.123020_11000_lo.root': [11000, 0],         \n",
        "          'drive/MyDrive/root_files_cry4/ana.amirkhan.RecoMC.cry4v940.092020_13000_lo.root': [13000, 0],\n",
        "          'drive/MyDrive/root_files_cry4/ana.amirkhan.RecoMC.cry4v940.123020_13000_lo.root': [13000, 0],\n",
        "          'drive/MyDrive/root_files_cry4/ana.amirkhan.RecoMC.cry4v940.092020_15000_lo.root': [15000, 0],\n",
        "          'drive/MyDrive/root_files_cry4/ana.amirkhan.RecoMC.cry4v940.123020_15000_lo.root': [15000, 0],        \n",
        "          'drive/MyDrive/root_files_cry4/ana.amirkhan.RecoMC.cry4v940.092020_17000_lo.root': [17000, 0],\n",
        "          'drive/MyDrive/root_files_cry4/ana.amirkhan.RecoMC.cry4v940.123020_17000_lo.root': [17000, 0],\n",
        "          \n",
        "          'drive/MyDrive/root_files_cry4/ana.dzhadan.RecoMC.cry4v940.092020_7000_hi.root': [7000, 1],\n",
        "          'drive/MyDrive/root_files_cry4/ana.dzhadan.RecoMC.cry4v940.092020_9000_hi.root': [9000, 1],\n",
        "          'drive/MyDrive/root_files_cry4/ana.amirkhan.RecoMC.cry4v940.092020_11000_hi.root': [11000, 1],\n",
        "          'drive/MyDrive/root_files_cry4/ana.amirkhan.RecoMC.cry4v940.092020_13000_hi.root': [13000, 1],\n",
        "          'drive/MyDrive/root_files_cry4/ana.amirkhan.RecoMC.cry4v940.092020_15000_hi.root': [15000, 1],\n",
        "          'drive/MyDrive/root_files_cry4/ana.amirkhan.RecoMC.cry4v940.092020_17000_hi.root': [17000, 1],\n",
        "          }\n",
        "else:\n",
        "  files_cry={                  \n",
        "      'drive/MyDrive/root_files_cry5/trkanaCosmicCRYonRecoTriggered010722.root': [17000, 0],\n",
        "      'drive/MyDrive/root_files_cry5/ana.mu2e.CosmicCRYTriggered.v5hiMinRangeRegionCuts.root': [17000, 1],\n",
        "      }"
      ],
      "execution_count": 13,
      "outputs": []
    },
    {
      "cell_type": "code",
      "source": [
        "files_cry"
      ],
      "metadata": {
        "id": "KQ9gtjkQ9o6k",
        "outputId": "18163841-baec-4d25-b627-a906c8af4c9a",
        "colab": {
          "base_uri": "https://localhost:8080/"
        }
      },
      "execution_count": 14,
      "outputs": [
        {
          "output_type": "execute_result",
          "data": {
            "text/plain": [
              "{'drive/MyDrive/root_files_cry5/ana.mu2e.CosmicCRYTriggered.v5hiMinRangeRegionCuts.root': [17000,\n",
              "  1],\n",
              " 'drive/MyDrive/root_files_cry5/trkanaCosmicCRYonRecoTriggered010722.root': [17000,\n",
              "  0]}"
            ]
          },
          "metadata": {},
          "execution_count": 14
        }
      ]
    },
    {
      "cell_type": "code",
      "source": [
        "df = combine_df(files_cry)"
      ],
      "metadata": {
        "colab": {
          "base_uri": "https://localhost:8080/"
        },
        "id": "7_Ksy89NB_P3",
        "outputId": "a5d55fb6-e548-4ffd-9cb9-9a0dfdd6be9c"
      },
      "execution_count": 15,
      "outputs": [
        {
          "output_type": "stream",
          "name": "stdout",
          "text": [
            "Reading file drive/MyDrive/root_files_cry5/trkanaCosmicCRYonRecoTriggered010722.root 17000 0\n",
            "Reading file drive/MyDrive/root_files_cry5/ana.mu2e.CosmicCRYTriggered.v5hiMinRangeRegionCuts.root 17000 1\n"
          ]
        }
      ]
    },
    {
      "cell_type": "code",
      "source": [
        "df.to_hdf(h5file, key='cry')"
      ],
      "metadata": {
        "id": "Eae8k8vlFIxd"
      },
      "execution_count": 16,
      "outputs": []
    },
    {
      "cell_type": "markdown",
      "metadata": {
        "id": "PlHfRi5ZLLmj"
      },
      "source": [
        "#Load dataframe"
      ]
    },
    {
      "cell_type": "code",
      "metadata": {
        "id": "mU-abhhJLNIc"
      },
      "source": [
        "df = pd.read_hdf(h5file, mode='r').query('lyield==17000')"
      ],
      "execution_count": null,
      "outputs": []
    },
    {
      "cell_type": "code",
      "source": [
        "list(pd.read_hdf(h5file, mode='r', stop=300000))"
      ],
      "metadata": {
        "id": "C6qRxhdyNXby"
      },
      "execution_count": null,
      "outputs": []
    },
    {
      "cell_type": "code",
      "metadata": {
        "id": "FoBthcBg0MRq"
      },
      "source": [
        "for l in range(7000,17001,2000):\n",
        "  plt.hist(df.query('is_high==1 & lyield==%i' % l)['crvinfo_PEs'], bins=100, range=(0, 1000), histtype='step');\n",
        "plt.figure()\n",
        "for l in range(7000,17001,2000):\n",
        "  plt.hist(df.query('is_high==0 & lyield==%i' % l)['crvinfo_PEs'], bins=100, range=(0, 1000), histtype='step');\n",
        "plt.figure()\n",
        "plt.hist(df.query('is_high==0 & lyield==%i' % 17000)['crvinfomc_z'], bins=100, range=(-5000, 20000), histtype='step');\n",
        "plt.hist(df.query('is_high==1 & lyield==%i' % 17000)['crvinfomc_z'], bins=100, range=(-5000, 20000), histtype='step');"
      ],
      "execution_count": null,
      "outputs": []
    },
    {
      "cell_type": "code",
      "source": [
        ""
      ],
      "metadata": {
        "id": "sh4MSbxHlb7o"
      },
      "execution_count": null,
      "outputs": []
    }
  ]
}