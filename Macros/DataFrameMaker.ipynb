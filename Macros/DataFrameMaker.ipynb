{
  "nbformat": 4,
  "nbformat_minor": 0,
  "metadata": {
    "colab": {
      "name": "DataFrameMaker.ipynb",
      "provenance": [],
      "collapsed_sections": [],
      "include_colab_link": true
    },
    "kernelspec": {
      "name": "python3",
      "display_name": "Python 3"
    },
    "language_info": {
      "name": "python"
    }
  },
  "cells": [
    {
      "cell_type": "markdown",
      "metadata": {
        "id": "view-in-github",
        "colab_type": "text"
      },
      "source": [
        "<a href=\"https://colab.research.google.com/github/oksuzian/Mu2eANL/blob/master/Macros/DataFrameMaker.ipynb\" target=\"_parent\"><img src=\"https://colab.research.google.com/assets/colab-badge.svg\" alt=\"Open In Colab\"/></a>"
      ]
    },
    {
      "cell_type": "markdown",
      "metadata": {
        "id": "gV8ecMDtDXkE"
      },
      "source": [
        "# Init and define function"
      ]
    },
    {
      "cell_type": "code",
      "metadata": {
        "colab": {
          "base_uri": "https://localhost:8080/"
        },
        "id": "1cYjEx76DYCd",
        "outputId": "93eee7da-5c49-4926-ed76-cfbab19889b5"
      },
      "source": [
        "import sys\n",
        "import matplotlib.pyplot as plt\n",
        "%pip -q install uproot3\n",
        "%pip -q install --upgrade tables\n",
        "import uproot3\n",
        "import pandas as pd\n",
        "import numpy as np\n",
        "\n",
        "CRY4 = False\n",
        "if CRY4:\n",
        "  h5file='drive/MyDrive/root_files_cry4/cry4df.h5'\n",
        "else:\n",
        "  h5file='drive/MyDrive/root_files_cry5/cry5df.h5'\n",
        "\n",
        "\n",
        "# This allows you to run on Colaboratory and load files from your Google Drive\n",
        "try:\n",
        "    from google.colab import drive\n",
        "    drive.mount(\"/content/drive\")\n",
        "    main_path = '/content/drive/MyDrive/'\n",
        "except:\n",
        "    main_path = ''\n",
        "sys.path.append(main_path)\n",
        "sys.path.append(main_path+'root_files_cry4')"
      ],
      "execution_count": 61,
      "outputs": [
        {
          "output_type": "stream",
          "name": "stdout",
          "text": [
            "Drive already mounted at /content/drive; to attempt to forcibly remount, call drive.mount(\"/content/drive\", force_remount=True).\n"
          ]
        }
      ]
    },
    {
      "cell_type": "code",
      "metadata": {
        "id": "FJetvMcrI-Pe"
      },
      "source": [
        "def default_flatname(branchname, fieldname, index):\n",
        "    \"\"\"This replaces the dot in the column names with underscores\"\"\"\n",
        "    out = branchname.replace(\".\", \"_\")\n",
        "    if not isinstance(branchname, str):\n",
        "        out = branchname.decode(\"utf-8\")\n",
        "    if fieldname is not None:\n",
        "        fieldname.replace(\".\", \"_\")\n",
        "        out += \"_\" + fieldname\n",
        "    if index != ():\n",
        "        out += \"[\" + \"][\".join(str(x) for x in index) + \"]\"\n",
        "    return out"
      ],
      "execution_count": 2,
      "outputs": []
    },
    {
      "cell_type": "code",
      "metadata": {
        "id": "HtOd-HS3JopR"
      },
      "source": [
        "def make_df(trkana, tag_high, lyield):\n",
        "\n",
        "  df_eve = trkana.pandas.df(['evtinfo.*', 'de.*', 'deent.*', 'dequal.*', 'demc.*', 'demcgen.*', 'trigbits*', 'ue.*', 'crvsummary.*', '_*'], flatname=default_flatname, flatten=True)\n",
        "  df_crv = trkana.pandas.df(['crvinfo.*', 'crvinfomc.*', 'bestcrv*'], flatname=default_flatname, flatten=True)\n",
        "  if CRY4:\n",
        "    df_crv = df_crv[df_crv.index.get_level_values('subentry') == df_crv[\"bestcrv\"]]\n",
        "\n",
        "  pd.merge(df_eve, df_crv, how=\"left\", on='entry')\n",
        "  df = df_eve.merge(df_crv, how=\"left\", on=\"entry\")\n",
        "  df.columns = df.columns.str.replace('__', '_')\n",
        "\n",
        "  df['is_high'] = tag_high\n",
        "  df['lyield'] = int(lyield)\n",
        "  df[\"deent_mom\"] = pow(pow(df[\"deent_mom_fCoordinates_fX\"],2) + pow(df[\"deent_mom_fCoordinates_fY\"],2) + pow(df[\"deent_mom_fCoordinates_fZ\"],2),0.5)\n",
        "  df[\"crvinfo_dT\"] = df[\"crvinfo_timeWindowStart\"] - df[\"de_t0\"]\n",
        "  if CRY4:\n",
        "    df['deent_maxr'] = df[\"deent_d0\"]+2.0/df[\"deent_om\"]\n",
        "    df[\"is_triggered\"] = (df[\"trigbits\"].values & 0x208) > 0\n",
        "  df = df.fillna(-999999)\n",
        "  return df"
      ],
      "execution_count": 44,
      "outputs": []
    },
    {
      "cell_type": "code",
      "metadata": {
        "id": "PTjQqDcMtC4c"
      },
      "source": [
        "def combine_df(files):\n",
        "    \n",
        "  df = pd.DataFrame()\n",
        "  for f in files:\n",
        "      print(\"Reading file\", f, files[f][0], files[f][1])\n",
        "      file = uproot3.open(f)\n",
        "      trkana = file[\"TrkAnaNeg\"][\"trkana\"]\n",
        "      df_ = make_df(trkana, files[f][1], files[f][0])\n",
        "      df_ = df_.filter(regex=var_str)\n",
        "      df = df.append(df_)\n",
        "  df = df.loc[:,~df.columns.duplicated()]  # delete duplicate colummns\n",
        "  return df    "
      ],
      "execution_count": 45,
      "outputs": []
    },
    {
      "cell_type": "markdown",
      "metadata": {
        "id": "Cf75-mHNKVQe"
      },
      "source": [
        "#Variables list to save in df"
      ]
    },
    {
      "cell_type": "code",
      "metadata": {
        "id": "s3aWu2ZTFVSm"
      },
      "source": [
        "var_list=[\n",
        " 'evtinfo_eventid',\n",
        " 'evtinfo_subrunid',\n",
        " 'de_status',\n",
        " 'de_pdg',\n",
        " 'de_nhits',\n",
        " 'de_t0',\n",
        " 'deent_mom',\n",
        " 'deent_d0',\n",
        " 'deent_p0',\n",
        " 'deent_z0',\n",
        " 'deent_td',\n",
        " 'dequal_TrkPID',\n",
        " 'dequal_TrkQual',\n",
        " 'demc_pdg',\n",
        " 'demcgen_pdg',\n",
        " 'demcgen_gen',\n",
        " 'demcgen_posx',\n",
        " 'demcgen_posy',\n",
        " 'demcgen_posz',\n",
        " 'demcgen_momx',\n",
        " 'demcgen_momy',\n",
        " 'demcgen_momz',\n",
        " 'trigbits',\n",
        " 'ue_status',\n",
        " 'ue_nhits',\n",
        " '_totalPEs',\n",
        " '_nHitCounters',\n",
        " '_totalEnergyDeposited',\n",
        " '_x',\n",
        " '_y',\n",
        " '_z',\n",
        " '_pdgId',\n",
        " '_crvSectorNumber',\n",
        " '_crvSectorType',\n",
        " 'crvinfo__crvSectorType',\n",
        " 'crvinfo_x',\n",
        " 'crvinfo_y',\n",
        " 'crvinfo_z',\n",
        " 'crvinfo_PEs',\n",
        " 'crvinfo_timeWindowStart',\n",
        " 'crvinfo_nCoincidenceHits',\n",
        " 'crvinfomc_x',\n",
        " 'crvinfomc_y',\n",
        " 'crvinfomc_z',\n",
        " 'bestcrv',\n",
        " 'is_high',\n",
        " 'lyield',\n",
        " 'crvinfo_dT',\n",
        " 'deent_maxr',\n",
        " 'is_triggered']\n",
        "\n",
        "var_str='('\n",
        "for var in var_list:\n",
        "  var_str=var_str+var+'|'\n",
        "var_str=var_str[:-1]+')'"
      ],
      "execution_count": 33,
      "outputs": []
    },
    {
      "cell_type": "markdown",
      "metadata": {
        "id": "O0f2Gwg3uAZD"
      },
      "source": [
        "# Save dataframe"
      ]
    },
    {
      "cell_type": "code",
      "metadata": {
        "id": "kORKjW0_Jq5J"
      },
      "source": [
        "files_cry4 = {                  \n",
        "        'drive/MyDrive/root_files_cry4/ana.dzhadan.RecoMC.cry4v940.092020_7000_lo.root': [7000, 0],\n",
        "        'drive/MyDrive/root_files_cry4/ana.dzhadan.RecoMC.cry4v940.123020_7000_lo.root': [7000, 0],\n",
        "        'drive/MyDrive/root_files_cry4/ana.dzhadan.RecoMC.cry4v940.092020_9000_lo.root': [9000, 0],\n",
        "        'drive/MyDrive/root_files_cry4/ana.dzhadan.RecoMC.cry4v940.123020_9000_lo.root': [9000, 0],         \n",
        "        'drive/MyDrive/root_files_cry4/ana.amirkhan.RecoMC.cry4v940.092020_11000_lo.root': [11000, 0],\n",
        "        'drive/MyDrive/root_files_cry4/ana.dzhadan.RecoMC.cry4v940.123020_11000_lo.root': [11000, 0],         \n",
        "        'drive/MyDrive/root_files_cry4/ana.amirkhan.RecoMC.cry4v940.092020_13000_lo.root': [13000, 0],\n",
        "        'drive/MyDrive/root_files_cry4/ana.amirkhan.RecoMC.cry4v940.123020_13000_lo.root': [13000, 0],\n",
        "        'drive/MyDrive/root_files_cry4/ana.amirkhan.RecoMC.cry4v940.092020_15000_lo.root': [15000, 0],\n",
        "        'drive/MyDrive/root_files_cry4/ana.amirkhan.RecoMC.cry4v940.123020_15000_lo.root': [15000, 0],        \n",
        "        'drive/MyDrive/root_files_cry4/ana.amirkhan.RecoMC.cry4v940.092020_17000_lo.root': [17000, 0],\n",
        "        'drive/MyDrive/root_files_cry4/ana.amirkhan.RecoMC.cry4v940.123020_17000_lo.root': [17000, 0],\n",
        "        \n",
        "        'drive/MyDrive/root_files_cry4/ana.dzhadan.RecoMC.cry4v940.092020_7000_hi.root': [7000, 1],\n",
        "        'drive/MyDrive/root_files_cry4/ana.dzhadan.RecoMC.cry4v940.092020_9000_hi.root': [9000, 1],\n",
        "        'drive/MyDrive/root_files_cry4/ana.amirkhan.RecoMC.cry4v940.092020_11000_hi.root': [11000, 1],\n",
        "        'drive/MyDrive/root_files_cry4/ana.amirkhan.RecoMC.cry4v940.092020_13000_hi.root': [13000, 1],\n",
        "        'drive/MyDrive/root_files_cry4/ana.amirkhan.RecoMC.cry4v940.092020_15000_hi.root': [15000, 1],\n",
        "        'drive/MyDrive/root_files_cry4/ana.amirkhan.RecoMC.cry4v940.092020_17000_hi.root': [17000, 1],\n",
        "        }"
      ],
      "execution_count": 58,
      "outputs": []
    },
    {
      "cell_type": "code",
      "source": [
        "files_cry5 = {                  \n",
        "        'drive/MyDrive/root_files_cry5/trkanaCosmicCRYonRecoTriggered010722.root': [17000, 0],\n",
        "        'drive/MyDrive/root_files_cry5/ana.mu2e.CosmicCRYTriggered.v5hiMinRangeRegionCuts.root': [17000, 1],\n",
        "        }"
      ],
      "metadata": {
        "id": "KQ9gtjkQ9o6k"
      },
      "execution_count": 59,
      "outputs": []
    },
    {
      "cell_type": "code",
      "source": [
        "df = combine_df(files_cry5)"
      ],
      "metadata": {
        "colab": {
          "base_uri": "https://localhost:8080/"
        },
        "id": "7_Ksy89NB_P3",
        "outputId": "421ddbe9-196e-494b-e104-88794eb2e502"
      },
      "execution_count": 60,
      "outputs": [
        {
          "output_type": "stream",
          "name": "stdout",
          "text": [
            "Reading file drive/MyDrive/root_files_cry5/trkanaCosmicCRYonRecoTriggered010722.root 17000 0\n",
            "Reading file drive/MyDrive/root_files_cry5/ana.mu2e.CosmicCRYTriggered.v5hiMinRangeRegionCuts.root 17000 1\n"
          ]
        }
      ]
    },
    {
      "cell_type": "code",
      "source": [
        "df.to_hdf(h5file, key='cry')"
      ],
      "metadata": {
        "id": "Eae8k8vlFIxd",
        "outputId": "de1008bb-3fb5-457e-9bc1-d4f607304c20",
        "colab": {
          "base_uri": "https://localhost:8080/"
        }
      },
      "execution_count": 62,
      "outputs": [
        {
          "output_type": "stream",
          "name": "stderr",
          "text": [
            "/usr/local/lib/python3.7/dist-packages/pandas/core/generic.py:2718: PerformanceWarning: \n",
            "your performance may suffer as PyTables will pickle object types that it cannot\n",
            "map directly to c-types [inferred_type->mixed-integer,key->block3_values] [items->Index(['bestcrvmc_valid'], dtype='object')]\n",
            "\n",
            "  encoding=encoding,\n"
          ]
        }
      ]
    },
    {
      "cell_type": "markdown",
      "metadata": {
        "id": "PlHfRi5ZLLmj"
      },
      "source": [
        "#Load dataframe"
      ]
    },
    {
      "cell_type": "code",
      "metadata": {
        "id": "mU-abhhJLNIc"
      },
      "source": [
        "df = pd.read_hdf(h5file, mode='r')"
      ],
      "execution_count": 63,
      "outputs": []
    },
    {
      "cell_type": "code",
      "metadata": {
        "colab": {
          "base_uri": "https://localhost:8080/",
          "height": 761
        },
        "id": "FoBthcBg0MRq",
        "outputId": "95f10c93-0f5e-4bc0-cd4b-a5063a855b0c"
      },
      "source": [
        "for l in range(7000,17001,2000):\n",
        "  plt.hist(df.query('is_high==1 & lyield==%i' % l)['bestcrv_PEs'], bins=100, range=(0, 1000), histtype='step');\n",
        "plt.figure()\n",
        "for l in range(7000,17001,2000):\n",
        "  plt.hist(df.query('is_high==0 & lyield==%i' % l)['bestcrv_PEs'], bins=100, range=(0, 1000), histtype='step');\n",
        "plt.figure()\n",
        "plt.hist(df.query('is_high==0 & lyield==%i' % 17000)['crvinfomc_z'], bins=100, range=(-5000, 20000), histtype='step');\n",
        "plt.hist(df.query('is_high==1 & lyield==%i' % 17000)['crvinfomc_z'], bins=100, range=(-5000, 20000), histtype='step');\n",
        "#plt.hist(df.query('is_high==1 & lyield==%i' % 17000)['bestcrvmc_z'], bins=100, range=(-5000, 20000), histtype='step');"
      ],
      "execution_count": 64,
      "outputs": [
        {
          "output_type": "display_data",
          "data": {
            "text/plain": [
              "<Figure size 432x288 with 1 Axes>"
            ],
            "image/png": "[encoded data removed]"
          },
          "metadata": {
            "needs_background": "light"
          }
        },
        {
          "output_type": "display_data",
          "data": {
            "text/plain": [
              "<Figure size 432x288 with 1 Axes>"
            ],
            "image/png": "[encoded data removed]"
          },
          "metadata": {
            "needs_background": "light"
          }
        },
        {
          "output_type": "display_data",
          "data": {
            "text/plain": [
              "<Figure size 432x288 with 1 Axes>"
            ],
            "image/png": "[encoded data removed]"
          },
          "metadata": {
            "needs_background": "light"
          }
        }
      ]
    }
  ]
}