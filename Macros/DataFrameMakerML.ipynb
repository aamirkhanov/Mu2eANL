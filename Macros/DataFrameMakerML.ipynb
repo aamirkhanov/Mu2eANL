{
  "nbformat": 4,
  "nbformat_minor": 0,
  "metadata": {
    "colab": {
      "name": "CRY4MLAnalyzer.ipynb",
      "provenance": [],
      "collapsed_sections": [
        "Fatq3h01oZ2T",
        "jyBcOdc2ozCz",
        "fREnFj_FZpbn",
        "rK3JFk0RIWli",
        "iwQrIJQkCqgv",
        "vVjZM8DI85n1",
        "8b9xdwtWDDqB",
        "IejsCpk09FI1",
        "7P5naczDDXnI",
        "V7gy7ImCbJlg",
        "oe1y_Ak4DpmI",
        "NWDrl14QbCFT",
        "QLoyxd0IrE4z",
        "6UuI7Cp21p6j",
        "X_DHoCXe7hZJ",
        "trhVWe_b3g75",
        "vVjMrJTlk-DN",
        "btI-XbWXyiaU",
        "cT-lsdkKFveO",
        "U2EzLxqb928-",
        "Y5Aikhse0pAn",
        "fdPQfVlg1EUR",
        "Yd9TMP12fedI",
        "GdsgfMOHgF9c",
        "Xm60jVfdgdtX",
        "Zof1S55llcVb",
        "Xh9XgYbvrXyT",
        "t3f0oPKwS4Ma",
        "BZO0XvpI7mLm",
        "WMpUnurdsKgo",
        "pY6DnglNDEMx",
        "r0Oq2GKu8sjU",
        "F92heRYbE7K4",
        "T2m_Gpk3keeD",
        "2xpZN7sr_mZy",
        "19BasiFe5oTO",
        "j6QVFqT3DJLo",
        "SouRUwfZDwJc",
        "Kd2MqV_O6elA",
        "R4DkcpOOGeAJ"
      ],
      "machine_shape": "hm",
      "include_colab_link": true
    },
    "kernelspec": {
      "display_name": "Python 3",
      "name": "python3"
    }
  },
  "cells": [
    {
      "cell_type": "markdown",
      "metadata": {
        "id": "view-in-github",
        "colab_type": "text"
      },
      "source": [
        "<a href=\"https://colab.research.google.com/github/oksuzian/Mu2eANL/blob/master/Macros/CRY4MLAnalyzer.ipynb\" target=\"_parent\"><img src=\"https://colab.research.google.com/assets/colab-badge.svg\" alt=\"Open In Colab\"/></a>"
      ]
    },
    {
      "cell_type": "markdown",
      "metadata": {
        "id": "fREnFj_FZpbn"
      },
      "source": [
        "\n",
        "\n",
        "\n",
        "\n",
        "\n",
        "\n",
        "\n",
        "\n",
        "\n",
        "\n",
        "\n",
        "\n",
        "\n",
        "\n",
        "\n",
        "\n",
        "\n",
        "\n",
        "\n",
        "\n",
        "\n",
        "\n",
        "\n",
        "\n",
        "\n",
        "\n",
        "\n",
        "\n",
        "\n",
        "\n",
        "\n",
        "\n",
        "\n",
        "#Init"
      ]
    },
    {
      "cell_type": "code",
      "metadata": {
        "colab": {
          "base_uri": "https://localhost:8080/"
        },
        "id": "Yp7Hv26KMdJt",
        "outputId": "3a5b9c6b-c590-4de5-c426-51a9efe20afb"
      },
      "source": [
        "import sys\n",
        "\n",
        "# This allows you to run on Colaboratory and load files from your Google Drive\n",
        "try:\n",
        "    from google.colab import drive\n",
        "    drive.mount(\"/content/drive\")\n",
        "    main_path = '/content/drive/My Drive/'\n",
        "except:\n",
        "    main_path = ''\n",
        "sys.path.append(main_path)"
      ],
      "execution_count": 3,
      "outputs": [
        {
          "output_type": "stream",
          "name": "stdout",
          "text": [
            "Drive already mounted at /content/drive; to attempt to forcibly remount, call drive.mount(\"/content/drive\", force_remount=True).\n"
          ]
        }
      ]
    },
    {
      "cell_type": "code",
      "metadata": {
        "id": "K-Ppt5zt1ETJ"
      },
      "source": [
        "import matplotlib.pyplot as plt\n",
        "import matplotlib.colors as mcolors\n",
        "import numpy as np\n",
        "import pandas as pd\n",
        "pd.set_option('display.float_format', lambda x: '%.1f' % x)\n",
        "plt.style.use('seaborn-whitegrid')\n",
        "plt.rcParams[\"grid.linestyle\"] = (5,15)\n",
        "plt.rcParams[\"grid.linewidth\"] = 0.5\n",
        "plt.rcParams[\"figure.figsize\"] = (10,5)\n",
        "plt.rcParams.update({'font.size': 22})\n",
        "\n",
        "#Keras libs\n",
        "import keras\n",
        "from keras.models import Sequential, Model, Input\n",
        "from keras.layers.core import Dense, Activation\n",
        "from keras.layers import BatchNormalization, Dropout, concatenate\n",
        "from keras.callbacks import ModelCheckpoint, EarlyStopping, Callback\n",
        "from tensorflow.keras.optimizers import Adam\n",
        "import keras.backend as K\n",
        "from keras.models import load_model\n",
        "\n",
        "import math\n",
        "import sklearn.utils\n",
        "from sklearn import preprocessing\n",
        "from sklearn.preprocessing import StandardScaler, LabelEncoder\n",
        "from sklearn.feature_selection import SelectKBest\n",
        "from sklearn.feature_selection import f_classif\n",
        "from sklearn.model_selection import train_test_split\n",
        "\n",
        "from sklearn.metrics import roc_curve\n",
        "from sklearn.metrics import auc\n",
        "from sklearn.metrics import brier_score_loss\n",
        "from sklearn.metrics import confusion_matrix, precision_score, recall_score, f1_score, cohen_kappa_score, plot_confusion_matrix\n",
        "import torchvision.models as models\n",
        "from decimal import Decimal\n",
        "from mpl_toolkits.axisartist.axislines import AxesZero\n",
        "import pickle"
      ],
      "execution_count": 4,
      "outputs": []
    },
    {
      "cell_type": "code",
      "metadata": {
        "id": "nUlpcHeDADEx"
      },
      "source": [
        "class MLAnalyzer(object):\n",
        "\n",
        "  def __str__(self):\n",
        "    printed = \"\"\n",
        "    for l in self.model.layers:\n",
        "      printed += str(l.name) + ' ' + str(l.input_shape[1]) + ' ==> ' + str(l.output_shape[1]) + '\\n'\n",
        "    return printed\n",
        "\n",
        "  def __init__(self, varcolumns=None, xTrain=None, yTrain=None, xVal=None, yVal=None, xTest=None, yTest=None, model=None, history=None, scaler=None):\n",
        "    self.model = model\n",
        "    self.history = history\n",
        "\n",
        "    self.xTrain = xTrain\n",
        "    self.yTrain = yTrain\n",
        "    self.xVal = xVal\n",
        "    self.yVal = yVal\n",
        "    self.xTest = xTest\n",
        "    self.yTest = yTest\n",
        "    self.cols = varcolumns #Dictionary of variables and their ranges\n",
        "    self.scaler = scaler\n",
        "\n",
        "    self.rejectionList = []\n",
        "    self.ceList = []\n",
        "    \n",
        "    self.predictions = []\n",
        "    self.avg_predictions = []\n",
        "    self.cutoff = -1\n",
        "    self.rounded_predictions = []\n",
        "    self.eventError = []\n",
        "\n",
        "    self.conf_matrix = []\n",
        "    self.fractional_matrix = []\n",
        "    self.matrix_errors = []\n",
        "    self.event_errors = []\n",
        "    self.final_matrix = None\n",
        "\n",
        "    self.TPInputs = [] #True positive\n",
        "    self.FPInputs = [] #False positive\n",
        "    self.FNInputs = [] #False negative\n",
        "    self.TNInputs = [] #True negative\n",
        "\n",
        "  def save(self, fname):\n",
        "    modelpath = main_path + 'saved_models'\n",
        "    dump = open(modelpath + '/' + fname + '.pkl', 'wb+')\n",
        "\n",
        "    pickle.dump((self.xTrain, self.yTrain, self.xVal, self.yVal, self.xTest, self.yTest), dump)\n",
        "\n",
        "    self.model.save(modelpath + '/' + fname + '.h5')\n",
        "\n",
        "  def load(self, fname):\n",
        "    modelpath = main_path + 'root_files_cry4/saved_models'\n",
        "    sifter = open(modelpath + '/' + fname + '.pkl', 'rb')\n",
        "    self.xTrain, self.yTrain, self.xVal, self.yVal, self.xTest, self.yTest = pickle.load(sifter)\n",
        "    self.model = load_model(modelpath + '/' + fname + '.h5')"
      ],
      "execution_count": 5,
      "outputs": []
    },
    {
      "cell_type": "markdown",
      "metadata": {
        "id": "rK3JFk0RIWli"
      },
      "source": [
        "#Load Scalers and models"
      ]
    },
    {
      "cell_type": "code",
      "metadata": {
        "id": "_IgRhecWBcol"
      },
      "source": [
        "fileopener = open(main_path+\"root_files_cry4/Saved_Data/scalers.pkl\", \"rb\")\n",
        "CRVscaler, noCRVscaler = pickle.load(fileopener)\n",
        "\n",
        "cinnamonBagel = MLAnalyzer()\n",
        "cinnamonBagel.load('cinnamonBagel')\n",
        "plainBagel = MLAnalyzer()\n",
        "plainBagel.load('PlainBagel')"
      ],
      "execution_count": 6,
      "outputs": []
    },
    {
      "cell_type": "markdown",
      "metadata": {
        "id": "iwQrIJQkCqgv"
      },
      "source": [
        "#Define variables list"
      ]
    },
    {
      "cell_type": "code",
      "metadata": {
        "id": "vnCF9qT8jCDB"
      },
      "source": [
        "all_variables_list = {'crvinfo__x': [-8000, 1000], \n",
        "                  'crvinfo__y': [0, 3500],\n",
        "                  'crvinfo__z': [-5000, 20000],\n",
        "                  'de_nhits': [-2, 100],\n",
        "                  'ue_nhits': [-2, 100],\n",
        "                  'dequal_TrkPID': [-1.1, 1.1],\n",
        "                  'dequal_TrkQual': [-0.1, 1.1],\n",
        "                  'deent_td': [0, 10],\n",
        "                  'deent_z0': [-500,500],\n",
        "                  'deent_d0': [-500,500],\n",
        "                  'deent_om': [-0.01, 0.05],\n",
        "                  'crvinfo__PEs': [-1, 1000],\n",
        "                  'crvinfo__dT': [-500, 500],\n",
        "                  'deent_mom': [50, 200],\n",
        "                  'deent_d0_om' : [300, 1200]\n",
        "                  }"
      ],
      "execution_count": 7,
      "outputs": []
    },
    {
      "cell_type": "code",
      "metadata": {
        "id": "idqwsPZ6akmP"
      },
      "source": [
        "Z_variables_list = {\n",
        "                  'de_nhits': [-2, 100],\n",
        "                  'ue_nhits': [-2, 100],\n",
        "                  'dequal_TrkPID': [-1.1, 1.1],\n",
        "                  'dequal_TrkQual': [-0.1, 1.1],\n",
        "                  'deent_td': [0, 10],\n",
        "                  'deent_z0': [-500,500],\n",
        "                  'deent_d0': [-500,500], #only z as the crv variable\n",
        "                  'deent_om': [-0.01, 0.05],\n",
        "                  'deent_mom': [50, 200],\n",
        "                  'deent_d0_om' : [300, 1200],\n",
        "                  'crvinfo__z': [-5000, 20000]\n",
        "                  }"
      ],
      "execution_count": 8,
      "outputs": []
    },
    {
      "cell_type": "code",
      "metadata": {
        "id": "XrdZysj7IFhX"
      },
      "source": [
        "dT_variables_list = {\n",
        "                  'de_nhits': [-2, 100],\n",
        "                  'ue_nhits': [-2, 100],\n",
        "                  'dequal_TrkPID': [-1.1, 1.1],\n",
        "                  'dequal_TrkQual': [-0.1, 1.1], #only dT as the crv variable\n",
        "                  'deent_td': [0, 10],\n",
        "                  'deent_z0': [-500,500],\n",
        "                  'deent_d0': [-500,500],\n",
        "                  'deent_om': [-0.01, 0.05],\n",
        "                  'crvinfo__dT': [-500, 500],\n",
        "                  'deent_mom': [50, 200],\n",
        "                  'deent_d0_om' : [300, 1200]\n",
        "                  }"
      ],
      "execution_count": 9,
      "outputs": []
    },
    {
      "cell_type": "code",
      "metadata": {
        "id": "p7Xk1IbmIY6b"
      },
      "source": [
        "dTZ_variables_list = {\n",
        "                  'de_nhits': [-2, 100],\n",
        "                  'ue_nhits': [-2, 100],\n",
        "                  'dequal_TrkPID': [-1.1, 1.1],\n",
        "                  'dequal_TrkQual': [-0.1, 1.1],\n",
        "                  'deent_td': [0, 10],\n",
        "                  'deent_z0': [-500,500],\n",
        "                  'deent_d0': [-500,500],\n",
        "                  'deent_om': [-0.01, 0.05],\n",
        "                  'crvinfo__dT': [-500, 500],\n",
        "                  'deent_mom': [50, 200],\n",
        "                  'deent_d0_om' : [300, 1200],\n",
        "                  'crvinfo__z': [-5000, 20000]\n",
        "                  }"
      ],
      "execution_count": 10,
      "outputs": []
    },
    {
      "cell_type": "code",
      "metadata": {
        "id": "6z8gEWP9mmiY"
      },
      "source": [
        "dTZPE_noMom_variables_list = {\n",
        "                  'crvinfo__z': [-5000, 20000],\n",
        "                  'crvinfo__PEs': [-1, 1000],\n",
        "                  'crvinfo__dT': [-500, 500],\n",
        "                  'de_nhits': [-2, 100],\n",
        "                  'ue_nhits': [-2, 100],\n",
        "                  'dequal_TrkPID': [-1.1, 1.1],\n",
        "                  'dequal_TrkQual': [-0.1, 1.1],\n",
        "                  'deent_td': [0, 10],\n",
        "                  'deent_z0': [-500,500],\n",
        "                  'deent_d0': [-500,500],\n",
        "                  'deent_om': [-0.01, 0.05],\n",
        "                  'deent_d0_om' : [300, 1200]\n",
        "                  }"
      ],
      "execution_count": 11,
      "outputs": []
    },
    {
      "cell_type": "code",
      "metadata": {
        "id": "9x2Lenjyax2C"
      },
      "source": [
        "noCRV_noMom_variables_list = {\n",
        "                  'de_nhits': [-2, 100],\n",
        "                  'ue_nhits': [-2, 100],\n",
        "                  'dequal_TrkPID': [-1.1, 1.1],\n",
        "                  'dequal_TrkQual': [-0.1, 1.1],\n",
        "                  'deent_td': [0, 10],\n",
        "                  'deent_z0': [-500,500],\n",
        "                  'deent_d0': [-500,500],\n",
        "                  'deent_om': [-0.01, 0.05],\n",
        "                  'deent_d0_om' : [300, 1200]\n",
        "                  }"
      ],
      "execution_count": 12,
      "outputs": []
    },
    {
      "cell_type": "code",
      "metadata": {
        "id": "DyvfLw3QSLum"
      },
      "source": [
        "translation = {'crvinfo__x': \"x position\", \n",
        "                  'crvinfo__y': \"y position\",\n",
        "                  'crvinfo__z': \"z position\",\n",
        "                  'de_nhits': \"Downstream tracker hits\",\n",
        "                  'ue_nhits': \"Upstream tracker hits\",\n",
        "                  'dequal_TrkPID': \"Particle ID\", #calorimeter\n",
        "                  'dequal_TrkQual': \"Track Quality\",\n",
        "                  'deent_td': \"Pitch Angle\", #z axis\n",
        "                  'deent_z0': \"z0 of track\",\n",
        "                  'deent_d0': \"distance from z axis\",\n",
        "                  'deent_om': 'Min transverse radius',\n",
        "                  'crvinfo__PEs': \"PE yield\",\n",
        "                  'crvinfo__dT': \"Delta-T = T_crv - T_tracker\",\n",
        "                  'deent_mom': \"Momentum\",\n",
        "                  'deent_d0_om' : 'Max transverse radius',\n",
        "                  'is_cosmic':'cosmic status'\n",
        "                  }"
      ],
      "execution_count": 13,
      "outputs": []
    },
    {
      "cell_type": "code",
      "metadata": {
        "id": "INWJLLlGAQO9"
      },
      "source": [
        "variables_list = all_variables_list"
      ],
      "execution_count": 14,
      "outputs": []
    },
    {
      "cell_type": "markdown",
      "metadata": {
        "id": "4PUbvNx59Wnw"
      },
      "source": [
        "#Define cuts"
      ]
    },
    {
      "cell_type": "code",
      "metadata": {
        "id": "bcncHJjb9ghP"
      },
      "source": [
        "#Default MDC-style cut box\n",
        "cuts = [\n",
        "    \"(de_status > 0)\",\n",
        "    \"(deent_td > 0.577350)\",\n",
        "    \"(deent_td < 1.000)\",\n",
        "    \"(deent_d0 > -80)\",\n",
        "    \"(deent_d0 < 105)\",\n",
        "    \"((deent_d0 + 2./deent_om) > 450)\",\n",
        "    \"((deent_d0 + 2./deent_om) < 680)\",\n",
        "    \"(is_triggered)\"\n",
        "]\n",
        "cut_tbox = \" & \".join(cuts)\n",
        "#PID, TrkQual and cut on events with an usptream leg\n",
        "cuts = [\n",
        "    \"(dequal_TrkQual > 0.8)\",\n",
        "    \"(dequal_TrkPID > 0.95)\",\n",
        "    \"(ue_status <= 0)\"\n",
        "]\n",
        "cut_pid_trkqual_ue = \" & \".join(cuts)\n",
        "# Extended momentum window cut`\n",
        "cuts = [\n",
        "    \"(deent_mom > 103.85)\",\n",
        "    \"(deent_mom < 105.1)\"\n",
        "    # \"(deent_mom > 100)\",\n",
        "    # \"(deent_mom < 110)\"\n",
        "]\n",
        "cut_extmom = \" & \".join(cuts)\n",
        "# Loose box cuts\n",
        "cuts = [\n",
        "    \"(deent_td > 0.577350)\",\n",
        "    \"(deent_td < 1.000)\",\n",
        "    \"(deent_d0 > -80)\",\n",
        "    \"(deent_d0 < 205)\",\n",
        "    \"((deent_d0 + 2./deent_om) > 450)\",\n",
        "    \"(is_triggered)\"\n",
        "]\n",
        "\n",
        "# crv_time = \"((-de_t0 + crvinfo__timeWindowStart) > 50 | (de_t0-crvinfo__timeWindowStart) > 150.0)\"\n",
        "crv_time = \"((crvinfo__dT > 50) and (crvinfo__dT < -150))\"\n",
        "\n",
        "#crv_time = \"de_t0-crvinfo__timeWindowStart > 350.0\"\n",
        "\n",
        "\n",
        "cut_lbox = \" & \".join(cuts)\n",
        "\n",
        "cut_lbox = \" & \".join(cuts)\n"
      ],
      "execution_count": 15,
      "outputs": []
    },
    {
      "cell_type": "code",
      "metadata": {
        "id": "2PrImRrAuO2e"
      },
      "source": [
        "#Combime cuts\n",
        "cut_nomom  = cut_tbox +\" & \"+cut_pid_trkqual_ue\n",
        "cut_extmom_orig = cut_extmom\n",
        "cut_extmom = cut_tbox +\" & \"+cut_pid_trkqual_ue+\" & \"+cut_extmom\n",
        "cut_loose  = cut_lbox +\" & \"+cut_pid_trkqual_ue"
      ],
      "execution_count": 16,
      "outputs": []
    },
    {
      "cell_type": "markdown",
      "metadata": {
        "id": "4nhm3xifd3RL"
      },
      "source": [
        "#Load, analyze and save CRY4 sample"
      ]
    },
    {
      "cell_type": "code",
      "metadata": {
        "id": "XdTvobD8HmvM"
      },
      "source": [
        "variousYields = pd.read_hdf(main_path + \"root_files_cry4/cry4df.h5\")"
      ],
      "execution_count": 17,
      "outputs": []
    },
    {
      "cell_type": "code",
      "metadata": {
        "id": "Fjicf2zZo3H2"
      },
      "source": [
        "noCRV = variousYields[(variousYields['crvinfo__PEs']<=-2500)] #Data Filtration\n",
        "onlyCRV = variousYields[(variousYields['crvinfo__PEs']>=-1)] #Data Filtration"
      ],
      "execution_count": 18,
      "outputs": []
    },
    {
      "cell_type": "code",
      "metadata": {
        "id": "2XMWIqrXsQeR"
      },
      "source": [
        "noCRV_X_test = noCRVscaler.transform(noCRV[list(noCRV_noMom_variables_list.keys())])\n",
        "onlyCRV_X_test = CRVscaler.transform(onlyCRV[list(dTZPE_noMom_variables_list.keys())])"
      ],
      "execution_count": 19,
      "outputs": []
    },
    {
      "cell_type": "code",
      "metadata": {
        "id": "HZHEfxxMszWA"
      },
      "source": [
        "noCRV_X_pred = plainBagel.model.predict(noCRV_X_test)\n",
        "onlyCRV_X_pred = cinnamonBagel.model.predict(onlyCRV_X_test)"
      ],
      "execution_count": null,
      "outputs": []
    },
    {
      "cell_type": "code",
      "metadata": {
        "id": "9H_RQ9UZyFw9"
      },
      "source": [
        "noCRV['pred'] = noCRV_X_pred.flatten().tolist()\n",
        "onlyCRV['pred'] = onlyCRV_X_pred.flatten().tolist()"
      ],
      "execution_count": null,
      "outputs": []
    },
    {
      "cell_type": "code",
      "metadata": {
        "id": "KDDaBObgxad6"
      },
      "source": [
        "plt.hist(onlyCRV.query('lyield==17000')['pred'], bins=100, histtype='step', label='onlyCRV and lyield==17000');\n",
        "plt.hist(onlyCRV.query(cut_extmom+'& lyield==17000')['pred'], bins=1000, histtype='step', label='onlyCRV with cut_extmom and lyield==17000');\n",
        "plt.yscale('log')\n",
        "plt.legend()\n",
        "\n",
        "plt.figure()\n",
        "plt.hist(noCRV.query('lyield==17000')['pred'], bins=100, histtype='step', label='noCRV and lyield==17000');\n",
        "plt.hist(noCRV.query(cut_extmom+'& lyield==17000')['pred'], bins=100, histtype='step', label='noCRV with cut_extmom and lyield==17000');\n",
        "plt.yscale('log')\n",
        "plt.legend()"
      ],
      "execution_count": null,
      "outputs": []
    },
    {
      "cell_type": "code",
      "metadata": {
        "id": "s0V_CLy_ML6-"
      },
      "source": [
        "df = onlyCRV.append(noCRV)\n",
        "h5file='drive/MyDrive/root_files_cry4/cr4dfml.hd5'\n",
        "store = pd.HDFStore(h5file, mode='w')\n",
        "store['cry4ml'] = df\n",
        "store.close()"
      ],
      "execution_count": null,
      "outputs": []
    }
  ]
}
